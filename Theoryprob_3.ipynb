{
 "cells": [
  {
   "cell_type": "code",
   "execution_count": 1,
   "metadata": {},
   "outputs": [],
   "source": [
    "import numpy as np"
   ]
  },
  {
   "cell_type": "markdown",
   "metadata": {},
   "source": [
    "## Задача 1\n",
    "Даны значения зарплат из выборки выпускников: \n",
    "\n",
    "100, 80, 75, 77, 89, 33, 45, 25, 65, 17, 30, 24, 57, 55, 70, 75, 65, 84, 90, 150\n",
    "\n",
    "Без использования статистических функций вроде mean, std, var, посчитать среднее арифметическое, среднее квадратичное отклонение, смещенную и несмещенную оценки дисперсий для данной выборки.\n"
   ]
  },
  {
   "cell_type": "code",
   "execution_count": 2,
   "metadata": {},
   "outputs": [],
   "source": [
    "salaries = np.array([100, 80, 75, 77, 89, 33, 45, 25, 65, 17, 30, 24, 57, 55, 70, 75, 65, 84, 90, 150])"
   ]
  },
  {
   "cell_type": "code",
   "execution_count": 3,
   "metadata": {},
   "outputs": [
    {
     "data": {
      "text/plain": [
       "65.3"
      ]
     },
     "execution_count": 3,
     "metadata": {},
     "output_type": "execute_result"
    }
   ],
   "source": [
    "mean = salaries.sum() / len(salaries) # среднее арифметическое\n",
    "mean"
   ]
  },
  {
   "cell_type": "code",
   "execution_count": 4,
   "metadata": {},
   "outputs": [
    {
     "data": {
      "text/plain": [
       "30.823854398825596"
      ]
     },
     "execution_count": 4,
     "metadata": {},
     "output_type": "execute_result"
    }
   ],
   "source": [
    "std = np.sqrt(((salaries - mean) ** 2).sum() / len(salaries)) # среднеквадратическое отклонение\n",
    "std"
   ]
  },
  {
   "cell_type": "code",
   "execution_count": 5,
   "metadata": {},
   "outputs": [
    {
     "data": {
      "text/plain": [
       "950.11"
      ]
     },
     "execution_count": 5,
     "metadata": {},
     "output_type": "execute_result"
    }
   ],
   "source": [
    "var = ((salaries - mean) ** 2).sum() / len(salaries) # Смещенная оценка дисперсии\n",
    "var"
   ]
  },
  {
   "cell_type": "code",
   "execution_count": 6,
   "metadata": {},
   "outputs": [
    {
     "data": {
      "text/plain": [
       "1000.1157894736842"
      ]
     },
     "execution_count": 6,
     "metadata": {},
     "output_type": "execute_result"
    }
   ],
   "source": [
    "var_2 = ((salaries - mean) ** 2).sum() / (len(salaries) - 1) # Несмещенная оценка дисперсии\n",
    "var_2"
   ]
  },
  {
   "cell_type": "markdown",
   "metadata": {},
   "source": [
    "## Задача 2\n",
    "Для выборки из задачи 1 найти первый и третий квартили, интерквартильное расстояние. Найти выборсы в выборке, используя для этого \"усы\" из boxplot. В этой задаче можно использовать статистические функции."
   ]
  },
  {
   "cell_type": "code",
   "execution_count": 7,
   "metadata": {},
   "outputs": [],
   "source": [
    "import seaborn as sns"
   ]
  },
  {
   "cell_type": "code",
   "execution_count": 8,
   "metadata": {},
   "outputs": [
    {
     "name": "stdout",
     "output_type": "stream",
     "text": [
      "первый квартиль - 42.0\n",
      "Третий квартиль - 81.0\n",
      "Интерквартильный размах - 39.0\n"
     ]
    }
   ],
   "source": [
    "q_25 = np.percentile(salaries, 25) # 1-ый квартиль\n",
    "q_75 = np.percentile(salaries, 75) # 3-ий квартиль\n",
    "q_range = q_75 - q_25\n",
    "print(f'первый квартиль - {q_25}\\nТретий квартиль - {q_75}\\nИнтерквартильный размах - {q_range}')"
   ]
  },
  {
   "cell_type": "code",
   "execution_count": 9,
   "metadata": {},
   "outputs": [
    {
     "data": {
      "image/png": "[encoded data removed]",
      "text/plain": [
       "<Figure size 432x288 with 1 Axes>"
      ]
     },
     "metadata": {},
     "output_type": "display_data"
    }
   ],
   "source": [
    "sns.boxplot(salaries);"
   ]
  },
  {
   "cell_type": "code",
   "execution_count": 10,
   "metadata": {
    "scrolled": true
   },
   "outputs": [
    {
     "name": "stdout",
     "output_type": "stream",
     "text": [
      "Массив выбросов: [150]\n"
     ]
    }
   ],
   "source": [
    "upper_limit = q_75 + 1.5 * q_range\n",
    "lower_limit = q_25 - 1.5 * q_range\n",
    "print(f'Массив выбросов: {salaries[np.where((salaries > upper_limit) | (salaries < lower_limit))]}')"
   ]
  },
  {
   "cell_type": "markdown",
   "metadata": {},
   "source": [
    "## Задача 3\n",
    "В университет на факультеты A и B поступило равное количество студентов, а на факультет C студентов поступило столько же, сколько на A и B вместе. Вероятность того, что студент факультета A сдаст первую сессию, равна 0.8. Для студента факультета B эта вероятность равна 0.7, а для студента факультета C - 0.9. Студент сдал первую сессию. Какова вероятность, что он учится: a) на факультете A? б) на факультете B? в) на факультете C?"
   ]
  },
  {
   "cell_type": "code",
   "execution_count": 11,
   "metadata": {},
   "outputs": [],
   "source": [
    "A = 0.8 # вероятность сдать сессию на факультете А\n",
    "B = 0.7 # вероятность сдать сессию на факультете B\n",
    "C = 0.9 # вероятность сдать сессию на факультете C"
   ]
  },
  {
   "cell_type": "markdown",
   "metadata": {},
   "source": [
    "Примем, что 100% - всего студентов, которые учатся на всех факультетах. Пусть x - количество студентов на факультете A и B, тогда получаем уравнение x + x + 2 * x = 100. отсюда 4x = 100, x = 25. Таким образом вероятность того, что случайный студент учиться на факультете A или B равна 25 / 100 = 0.25. Вероятность, что случайный студент учится на факультете C = 0.5. Запишем вероятности"
   ]
  },
  {
   "cell_type": "code",
   "execution_count": 12,
   "metadata": {},
   "outputs": [],
   "source": [
    "p_A = 0.25\n",
    "p_B = 0.25\n",
    "p_C = 0.5"
   ]
  },
  {
   "cell_type": "markdown",
   "metadata": {},
   "source": [
    "Для решения задачи понадобится формула Байеса"
   ]
  },
  {
   "cell_type": "code",
   "execution_count": 13,
   "metadata": {},
   "outputs": [],
   "source": [
    "def Bayes(p, condition_p, full_p):\n",
    "    return p * condition_p / full_p"
   ]
  },
  {
   "cell_type": "markdown",
   "metadata": {},
   "source": [
    "Полная вероятность сдать первую сессию"
   ]
  },
  {
   "cell_type": "code",
   "execution_count": 14,
   "metadata": {},
   "outputs": [
    {
     "data": {
      "text/plain": [
       "0.825"
      ]
     },
     "execution_count": 14,
     "metadata": {},
     "output_type": "execute_result"
    }
   ],
   "source": [
    "full_proba = p_A * A + p_B * B + p_C * C \n",
    "full_proba"
   ]
  },
  {
   "cell_type": "markdown",
   "metadata": {},
   "source": [
    "По формуле Байеса находим вероятности, что студент сдав сессию учится на факультете А,B или C соответственно"
   ]
  },
  {
   "cell_type": "code",
   "execution_count": 15,
   "metadata": {},
   "outputs": [
    {
     "name": "stdout",
     "output_type": "stream",
     "text": [
      "Вероятность, что студент, сдав сессию, учится на факультете A = 0.24242424242424246\n"
     ]
    }
   ],
   "source": [
    "result_A = Bayes(p_A, A, full_proba)\n",
    "print(f'Вероятность, что студент, сдав сессию, учится на факультете A = {result_A}')"
   ]
  },
  {
   "cell_type": "code",
   "execution_count": 16,
   "metadata": {},
   "outputs": [
    {
     "name": "stdout",
     "output_type": "stream",
     "text": [
      "Вероятность, что студент, сдав сессию, учится на факультете B = 0.21212121212121213\n"
     ]
    }
   ],
   "source": [
    "result_B = Bayes(p_B, B, full_proba)\n",
    "print(f'Вероятность, что студент, сдав сессию, учится на факультете B = {result_B}')"
   ]
  },
  {
   "cell_type": "code",
   "execution_count": 17,
   "metadata": {},
   "outputs": [
    {
     "name": "stdout",
     "output_type": "stream",
     "text": [
      "Вероятность, что студент, сдав сессию, учится на факультете C = 0.5454545454545455\n"
     ]
    }
   ],
   "source": [
    "result_C = Bayes(p_C, C, full_proba)\n",
    "print(f'Вероятность, что студент, сдав сессию, учится на факультете C = {result_C}')"
   ]
  }
 ],
 "metadata": {
  "kernelspec": {
   "display_name": "Python 3",
   "language": "python",
   "name": "python3"
  },
  "language_info": {
   "codemirror_mode": {
    "name": "ipython",
    "version": 3
   },
   "file_extension": ".py",
   "mimetype": "text/x-python",
   "name": "python",
   "nbconvert_exporter": "python",
   "pygments_lexer": "ipython3",
   "version": "3.6.5"
  }
 },
 "nbformat": 4,
 "nbformat_minor": 2
}
