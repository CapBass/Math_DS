{
 "cells": [
  {
   "cell_type": "code",
   "execution_count": 1,
   "metadata": {},
   "outputs": [],
   "source": [
    "import numpy as np"
   ]
  },
  {
   "cell_type": "code",
   "execution_count": 2,
   "metadata": {},
   "outputs": [],
   "source": [
    "def combinations(n, k):\n",
    "    return int(np.math.factorial(n) / (np.math.factorial(k) * np.math.factorial(n - k)))\n",
    "\n",
    "def arrangements(n, k):\n",
    "    return int(np.math.factorial(n) / np.math.factorial(n - k))\n",
    "\n",
    "def permutations(n):\n",
    "    return int(np.math.factorial(n))"
   ]
  },
  {
   "cell_type": "markdown",
   "metadata": {},
   "source": [
    "### Задача 1\n",
    "Рассмотрим пример 2 из методички. Чтобы посчитать вероятность такого события, нужно использовать сочетания или размещения? Ответ необходимо обосновать."
   ]
  },
  {
   "cell_type": "markdown",
   "metadata": {},
   "source": [
    "Ответ: нам важен порядок, чтобы на первой игральной кости выпало 1, а на второй 2, поэтому это размещение.  Всего исходов при броске одной кости шесть, а количество блгоприятных исходов на каждый бросок кости только 1. Мы должны получить одну комбинацию (1, 2)"
   ]
  },
  {
   "cell_type": "code",
   "execution_count": 3,
   "metadata": {},
   "outputs": [
    {
     "data": {
      "text/plain": [
       "0.027777777777777776"
      ]
     },
     "execution_count": 3,
     "metadata": {},
     "output_type": "execute_result"
    }
   ],
   "source": [
    "1 / arrangements(36, 1)"
   ]
  },
  {
   "cell_type": "markdown",
   "metadata": {},
   "source": [
    "В случае сочетаний мы бы могли получить (1,2) или (2,1)"
   ]
  },
  {
   "cell_type": "code",
   "execution_count": 4,
   "metadata": {},
   "outputs": [
    {
     "data": {
      "text/plain": [
       "0.05555555555555555"
      ]
     },
     "execution_count": 4,
     "metadata": {},
     "output_type": "execute_result"
    }
   ],
   "source": [
    "2 / combinations(36, 1)"
   ]
  },
  {
   "cell_type": "markdown",
   "metadata": {},
   "source": [
    "### Задача 2\n",
    "\n",
    "Группа студентов изучает 10 различных дисциплин. Сколькими способами можно составить расписание на понедельник, если в этот день должно быть 4 разных занятия?"
   ]
  },
  {
   "cell_type": "code",
   "execution_count": 5,
   "metadata": {},
   "outputs": [
    {
     "data": {
      "text/plain": [
       "5040"
      ]
     },
     "execution_count": 5,
     "metadata": {},
     "output_type": "execute_result"
    }
   ],
   "source": [
    "n = 10\n",
    "k = 4\n",
    "arrangements(n, k)"
   ]
  },
  {
   "cell_type": "markdown",
   "metadata": {},
   "source": [
    "### Задача 3\n",
    "\n",
    "Семь человек рассаживаются наудачу на скамейке. Какова вероятность того, что два определённых человека будут сидеть рядом?"
   ]
  },
  {
   "cell_type": "code",
   "execution_count": 6,
   "metadata": {},
   "outputs": [
    {
     "data": {
      "text/plain": [
       "0.2857142857142857"
      ]
     },
     "execution_count": 6,
     "metadata": {},
     "output_type": "execute_result"
    }
   ],
   "source": [
    "p_a_1 = 2 / 7 # вероятность, что первый сядет на краю скамьи\n",
    "p_a_2 = 5 / 7 # вероятность, что первый сядет не на краю скамьи\n",
    "p_b_a1 = 1 / 6 # вероятность, что второй сядет рядом при условии, что первый сидит на краю\n",
    "p_b_a2 = 2 / 6 # вероятность, что второй сядет рядом при условии, что первый сидит не на краю\n",
    "result = p_a_1 * p_b_a1 + p_a_2 * p_b_a2 \n",
    "result"
   ]
  },
  {
   "cell_type": "markdown",
   "metadata": {},
   "source": [
    "### Задача 4\n",
    "\n",
    "Из 60 вопросов, входящих в экзаменационные билеты, студент знает 50. Какова вероятность того, что среди трёх наугад выбранных вопросов студент знает: а) все? б) два?"
   ]
  },
  {
   "cell_type": "code",
   "execution_count": 7,
   "metadata": {},
   "outputs": [
    {
     "data": {
      "text/plain": [
       "0.5727644652250146"
      ]
     },
     "execution_count": 7,
     "metadata": {},
     "output_type": "execute_result"
    }
   ],
   "source": [
    "total_exp = combinations(60, 3) # всего способов вытащить 3 билета\n",
    "positive_exp = combinations(50, 3) # благоприятных способов вытащить 3 билета\n",
    "prob_a = positive_exp / total_exp # вероятность, что студент знает все 3 ответа\n",
    "prob_a"
   ]
  },
  {
   "cell_type": "code",
   "execution_count": 8,
   "metadata": {},
   "outputs": [
    {
     "data": {
      "text/plain": [
       "0.35797779076563413"
      ]
     },
     "execution_count": 8,
     "metadata": {},
     "output_type": "execute_result"
    }
   ],
   "source": [
    "positive_exp = combinations(50, 2) * combinations(10, 1) # благоприятных способов знать ответы на 2 билета из 3-х выбранных\n",
    "prob_b = positive_exp / total_exp # вероятность, что студент знает только 2 ответа из 3-х\n",
    "prob_b"
   ]
  },
  {
   "cell_type": "markdown",
   "metadata": {},
   "source": [
    "### Задача 5\n",
    "Бросается игральная кость. Пусть событие A - появление чётного числа, событие B - появление числа больше трёх. Являются ли эти события независимыми?"
   ]
  },
  {
   "cell_type": "markdown",
   "metadata": {},
   "source": [
    "Ответ: да, явлляются, такак вероятность совместного появленя этих событий равна произведению вероятностей P(A) * P(B)"
   ]
  },
  {
   "cell_type": "code",
   "execution_count": 9,
   "metadata": {},
   "outputs": [
    {
     "data": {
      "text/plain": [
       "0.25"
      ]
     },
     "execution_count": 9,
     "metadata": {},
     "output_type": "execute_result"
    }
   ],
   "source": [
    "prob_a = 1/2\n",
    "prob_b = 1/2\n",
    "prob = prob_a * prob_b\n",
    "prob "
   ]
  },
  {
   "cell_type": "markdown",
   "metadata": {},
   "source": [
    "### Задача 6\n",
    "Допустим, имеется некоторая очень редкая болезнь (поражает 0.1% населения). Вы приходите к врачу, вам делают тест на эту болезнь, и тест оказывается положительным. Врач говорит вам, что этот тест верно выявляет 99 % больных этой болезнью и всего лишь в 1% случаев даёт ложный положительный ответ.\n",
    "Вопрос: вакова вероятность, что вы действительно больны ей?"
   ]
  },
  {
   "cell_type": "code",
   "execution_count": 10,
   "metadata": {},
   "outputs": [
    {
     "data": {
      "text/plain": [
       "0.09016393442622951"
      ]
     },
     "execution_count": 10,
     "metadata": {},
     "output_type": "execute_result"
    }
   ],
   "source": [
    "prob = 0.001 * 0.99 + 0.999 * 0.01 # полная вероятность заболеть\n",
    "bayes = 0.001 * 0.99 / prob # по формуле Байеса находим вероятность, что вы юольны ей\n",
    "bayes"
   ]
  }
 ],
 "metadata": {
  "kernelspec": {
   "display_name": "Python 3",
   "language": "python",
   "name": "python3"
  },
  "language_info": {
   "codemirror_mode": {
    "name": "ipython",
    "version": 3
   },
   "file_extension": ".py",
   "mimetype": "text/x-python",
   "name": "python",
   "nbconvert_exporter": "python",
   "pygments_lexer": "ipython3",
   "version": "3.6.5"
  }
 },
 "nbformat": 4,
 "nbformat_minor": 2
}
