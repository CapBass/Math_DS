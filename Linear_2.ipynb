{
 "cells": [
  {
   "cell_type": "code",
   "execution_count": 18,
   "metadata": {},
   "outputs": [],
   "source": [
    "import numpy as np"
   ]
  },
  {
   "cell_type": "markdown",
   "metadata": {},
   "source": [
    "## Часть 1"
   ]
  },
  {
   "cell_type": "markdown",
   "metadata": {},
   "source": [
    "Все задания рекомендуется делать вручную, затем проверяя полученные результаты с использованием numpy.\n",
    "\n",
    "__1.__ Установить, какие произведения матриц $AB$ и $BA$ определены, и найти размерности полученных матриц:\n",
    "\n",
    "   а) $A$ — матрица $4\\times 2$, $B$ — матрица $4\\times 2$;\n",
    "    \n",
    "   б) $A$ — матрица $2\\times 5$, $B$ — матрица $5\\times 3$;\n",
    "    \n",
    "   в) $A$ — матрица $8\\times 3$, $B$ — матрица $3\\times 8$;\n",
    "    \n",
    "   г) $A$ — квадратная матрица $4\\times 4$, $B$ — квадратная матрица $4\\times 4$.\n"
   ]
  },
  {
   "cell_type": "markdown",
   "metadata": {},
   "source": [
    "$AB$ -  матрица не определена, $BA$ - матрица не определена\n",
    "\n",
    "$AB$ - матрица $5 \\times 5$, $BA$ - матрица не определена\n",
    "\n",
    "$AB$ - матрица $3 \\times 3$, $BA$ - матрица $8 \\times 8$\n",
    "\n",
    "$AB$ - матрица $4 \\times 4$, $BA$ - матрица $4 \\times 4$"
   ]
  },
  {
   "cell_type": "markdown",
   "metadata": {},
   "source": [
    "__2.__ Найти сумму и произведение матриц $A=\\begin{pmatrix}\n",
    "1 & -2\\\\ \n",
    "3 & 0\n",
    "\\end{pmatrix}$ и $B=\\begin{pmatrix}\n",
    "4 & -1\\\\ \n",
    "0 & 5\n",
    "\\end{pmatrix}.$"
   ]
  },
  {
   "cell_type": "markdown",
   "metadata": {},
   "source": [
    "$A=\\begin{pmatrix}\n",
    "1 & -2\\\\ \n",
    "3 & 0\n",
    "\\end{pmatrix}$,  $B=\\begin{pmatrix}\n",
    "4 & -1\\\\ \n",
    "0 & 5\n",
    "\\end{pmatrix}.$\n",
    "\n",
    "$A + B=\\begin{pmatrix}\n",
    "1 + 4 & -2 + (-1)\\\\ \n",
    "3 + 0 & 0 + 5\n",
    "\\end{pmatrix}$ = $\\begin{pmatrix}\n",
    "5 & -3\\\\ \n",
    "3 & 5\n",
    "\\end{pmatrix}.$\n",
    "\n",
    "\n",
    "$AB=\\begin{pmatrix}\n",
    "1 \\cdot 4 - 2 \\cdot 0  & 1 \\cdot -1 - 2 \\cdot 5\\\\ \n",
    "3 \\cdot 4 + 0 \\cdot 0  & 3 \\cdot -1 + 0 \\cdot 4\n",
    "\\end{pmatrix}$ = $\\begin{pmatrix}\n",
    "4 & -11\\\\ \n",
    "12 & -3\n",
    "\\end{pmatrix}.$"
   ]
  },
  {
   "cell_type": "markdown",
   "metadata": {},
   "source": [
    "__3.__ Из закономерностей сложения и умножения матриц на число можно сделать вывод, что матрицы одного размера образуют линейное пространство. Вычислить линейную комбинацию $3A-2B+4C$ для матриц $A=\\begin{pmatrix}\n",
    "1 & 7\\\\ \n",
    "3 & -6\n",
    "\\end{pmatrix}$, $B=\\begin{pmatrix}\n",
    "0 & 5\\\\ \n",
    "2 & -1\n",
    "\\end{pmatrix}$, $C=\\begin{pmatrix}\n",
    "2 & -4\\\\ \n",
    "1 & 1\n",
    "\\end{pmatrix}.$"
   ]
  },
  {
   "cell_type": "markdown",
   "metadata": {},
   "source": [
    "$3A=\\begin{pmatrix}\n",
    "3 \\cdot 1 & 3 \\cdot 7\\\\ \n",
    "3 \\cdot 3 & 3 \\cdot -6\n",
    "\\end{pmatrix}$ = $\\begin{pmatrix}\n",
    "3 & 21 \\\\ \n",
    "9 & -18\n",
    "\\end{pmatrix}$\n",
    "\n",
    "$2B=\\begin{pmatrix}\n",
    "2 \\cdot 0 & 2 \\cdot 5\\\\ \n",
    "2 \\cdot 2 & 2 \\cdot -1\n",
    "\\end{pmatrix}$ = $\\begin{pmatrix}\n",
    "0 & 10 \\\\ \n",
    "4 & -2\n",
    "\\end{pmatrix}$\n",
    "\n",
    "$4C=\\begin{pmatrix}\n",
    "4 \\cdot 2 & 4 \\cdot -4\\\\ \n",
    "4 \\cdot 1 & 4 \\cdot 1\n",
    "\\end{pmatrix}$ = $\\begin{pmatrix}\n",
    "8 & -16 \\\\ \n",
    "4 & 4\n",
    "\\end{pmatrix}$\n",
    "\n",
    "$3A - 2B=\\begin{pmatrix}\n",
    "3 - 0 & 21 - 10\\\\ \n",
    "9 - 4 & -18 + 2\n",
    "\\end{pmatrix}$ = $\\begin{pmatrix}\n",
    "3 & 11 \\\\ \n",
    "5 & -16\n",
    "\\end{pmatrix}$\n",
    "\n",
    "$3A - 2B + 4C =\\begin{pmatrix}\n",
    "3 + 8 & 11 - 16\\\\ \n",
    "5 + 4 & -16 + 4\n",
    "\\end{pmatrix}$ = $\\begin{pmatrix}\n",
    "11 & -5 \\\\ \n",
    "9 & -12\n",
    "\\end{pmatrix}$"
   ]
  },
  {
   "cell_type": "markdown",
   "metadata": {},
   "source": [
    "  \n",
    "__4.__ Дана матрица $A=\\begin{pmatrix}\n",
    "4 & 1\\\\ \n",
    "5 & -2\\\\ \n",
    "2 & 3\n",
    "\\end{pmatrix}$.\n",
    "Вычислить $AA^{T}$ и $A^{T}A$.\n"
   ]
  },
  {
   "cell_type": "markdown",
   "metadata": {},
   "source": [
    "$AA^T=\\begin{pmatrix}\n",
    "4 & 1\\\\ \n",
    "5 & -2\\\\ \n",
    "2 & 3\n",
    "\\end{pmatrix} \\cdot\n",
    "\\begin{pmatrix}\n",
    "4 & 5 & 2\\\\ \n",
    "1 & -2 & 3\n",
    "\\end{pmatrix} $ = $\\begin{pmatrix}\n",
    "4 \\cdot 4 + 1 \\cdot 1 & 4 \\cdot 5 + 1 \\cdot -2 & 4 \\cdot 2 + 1 \\cdot 3\\\\ \n",
    "5 \\cdot 4 - 2 \\cdot 1 & 5 \\cdot 5 - 2 \\cdot -2 & 5 \\cdot 2 - 2 \\cdot 3\\\\ \n",
    "2 \\cdot 4 + 3 \\cdot 1 & 2 \\cdot 5 + 3 \\cdot -2 & 2 \\cdot 2 + 3 \\cdot 3\n",
    "\\end{pmatrix} = \n",
    "\\begin{pmatrix}\n",
    "17 & 18 & 11\\\\ \n",
    "18 & 29 & 4\\\\ \n",
    "11 & 4 & 13\n",
    "\\end{pmatrix} $"
   ]
  },
  {
   "cell_type": "markdown",
   "metadata": {},
   "source": [
    "$A^TA=\\begin{pmatrix}\n",
    "4 & 5 & 2\\\\ \n",
    "1 & -2 & 3\n",
    "\\end{pmatrix} \\cdot\n",
    "\\begin{pmatrix}\n",
    "4 & 1\\\\ \n",
    "5 & -2\\\\ \n",
    "2 & 3\n",
    "\\end{pmatrix} $ = $\\begin{pmatrix}\n",
    "4 \\cdot 4 + 5 \\cdot 5 + 2 \\cdot 2 & 4 \\cdot 1 + 5 \\cdot -2 + 2 \\cdot 3\\\\ \n",
    "1 \\cdot 4 - 2 \\cdot 5 + 3 \\cdot 2 & 1 \\cdot 1 - 2 \\cdot -2 + 3 \\cdot 3\n",
    "\\end{pmatrix} = \n",
    "\\begin{pmatrix}\n",
    "45 & 0\\\\ \n",
    "0 & 14\n",
    "\\end{pmatrix} $"
   ]
  },
  {
   "cell_type": "markdown",
   "metadata": {},
   "source": [
    "__5*.__ Написать на Python функцию для перемножения двух произвольных матриц, не используя NumPy."
   ]
  },
  {
   "cell_type": "code",
   "execution_count": 108,
   "metadata": {},
   "outputs": [],
   "source": [
    "a = np.array([[4, 4, 5, 1], [5, 6, 6, 2], [5, -4, -5, 0], [6, 3, 1, 1]])\n",
    "b = np.array([[2, 4, 6], [3, 8, 4], [0, -1, 0], [9, 0, 1]])\n",
    "\n",
    "def get_shape(matrix):\n",
    "    rows = len(matrix)\n",
    "    cols = len(matrix[0])\n",
    "    return (rows, cols)\n",
    "\n",
    "    \n",
    "def my_dot(matrix_1, matrix_2):\n",
    "    shape_1 = get_shape(matrix_1)\n",
    "    shape_2 = get_shape(matrix_2)\n",
    "    result = []\n",
    "    if shape_1[1] == shape_2[0]:\n",
    "        for row in range(shape_1[0]):\n",
    "            matrix_row = []\n",
    "            for i in range(shape_2[1]):               \n",
    "                elem = 0                \n",
    "                for j in range(shape_2[0]):                \n",
    "                    elem += matrix_1[row][j] * matrix_2[j][i]             \n",
    "                matrix_row.append(elem)\n",
    "            result.append(matrix_row)\n",
    "    return result"
   ]
  },
  {
   "cell_type": "code",
   "execution_count": 109,
   "metadata": {},
   "outputs": [
    {
     "name": "stdout",
     "output_type": "stream",
     "text": [
      "[[29, 43, 41], [46, 62, 56], [-2, -7, 14], [30, 47, 49]]\n"
     ]
    },
    {
     "data": {
      "text/plain": [
       "array([[29, 43, 41],\n",
       "       [46, 62, 56],\n",
       "       [-2, -7, 14],\n",
       "       [30, 47, 49]])"
      ]
     },
     "execution_count": 109,
     "metadata": {},
     "output_type": "execute_result"
    }
   ],
   "source": [
    "print(my_dot(a, b))\n",
    "np.dot(a, b)"
   ]
  },
  {
   "cell_type": "markdown",
   "metadata": {},
   "source": [
    "## Часть 2"
   ]
  },
  {
   "cell_type": "markdown",
   "metadata": {},
   "source": [
    "__1.__ Вычислить определитель:\n",
    "\n",
    "   a)\n",
    "\n",
    "$$\\begin{vmatrix}\n",
    "sinx & -cosx\\\\ \n",
    "cosx & sinx\n",
    "\\end{vmatrix};$$\n",
    "\n",
    "   б)\n",
    "    \n",
    "$$\\begin{vmatrix}\n",
    "4 & 2 & 3\\\\ \n",
    "0 & 5 & 1\\\\ \n",
    "0 & 0 & 9\n",
    "\\end{vmatrix};$$\n",
    "    \n",
    "   в)\n",
    "\n",
    "$$\\begin{vmatrix}\n",
    "1 & 2 & 3\\\\ \n",
    "4 & 5 & 6\\\\ \n",
    "7 & 8 & 9\n",
    "\\end{vmatrix}.$$"
   ]
  },
  {
   "cell_type": "markdown",
   "metadata": {},
   "source": [
    "$\\begin{vmatrix}\n",
    "sinx & -cosx\\\\ \n",
    "cosx & sinx\n",
    "\\end{vmatrix} = sinx \\cdot sinx + cosx \\cdot cosx = sin^2x +  cos^2x = 1$\n",
    "\n",
    "\n",
    "$\\begin{vmatrix}\n",
    "4 & 2 & 3\\\\ \n",
    "0 & 5 & 1\\\\ \n",
    "0 & 0 & 9\n",
    "\\end{vmatrix} = 4 \\cdot 5 \\cdot 9 = 180$\n",
    "\n",
    "\n",
    "$\\begin{vmatrix}\n",
    "1 & 2 & 3\\\\ \n",
    "4 & 5 & 6\\\\ \n",
    "7 & 8 & 9\n",
    "\\end{vmatrix} = 1 \\cdot \\begin{vmatrix}\n",
    "5 & 6\\\\ \n",
    "8 & 9\n",
    "\\end{vmatrix}  - 2 \\cdot \\begin{vmatrix}\n",
    "4  & 6\\\\ \n",
    "7  & 9\n",
    "\\end{vmatrix} + 3 \\cdot \\begin{vmatrix}\n",
    "4 & 5\\\\ \n",
    "7 & 8\n",
    "\\end{vmatrix} = -3 + 12 - 9 = 0  $"
   ]
  },
  {
   "cell_type": "markdown",
   "metadata": {},
   "source": [
    "__2.__ Определитель матрицы $A$ равен $4$. Найти:\n",
    "\n",
    "   а) $det(A^{2})\n",
    "    \n",
    "   б) $det(A^{T})\n",
    "    \n",
    "   в) $det(2A)"
   ]
  },
  {
   "cell_type": "markdown",
   "metadata": {},
   "source": [
    "   а) $det(A^{2}) = det(AA) = |A| \\cdot |A| = 4 \\cdot 4 = 16$;\n",
    "    \n",
    "   б) $det(A^{T}) = det(A)  = 4$;\n",
    "    \n",
    "   в) $det(2A) = 2^2 \\cdot |A|  = 16 $."
   ]
  },
  {
   "cell_type": "markdown",
   "metadata": {},
   "source": [
    "__3.__  Доказать, что матрица\n",
    "\n",
    "$$\\begin{pmatrix}\n",
    "-2 & 7 & -3\\\\ \n",
    "4 & -14 & 6\\\\ \n",
    "-3 & 7 & 13\n",
    "\\end{pmatrix}$$\n",
    "   \n",
    "вырожденная."
   ]
  },
  {
   "cell_type": "markdown",
   "metadata": {},
   "source": [
    "Вторая строка матрицы я вляется колмбинацей первой строки, умноженной на -2, то есть первая и вторая строки матрицы являются линейно зависисмыми. Если две строки (столбца) матрицы линейно зависимы, то определитель этой матрицы равен нулю, отсюда следует, что матрица вырожденная"
   ]
  },
  {
   "cell_type": "markdown",
   "metadata": {},
   "source": [
    "__4.__ Найти ранг матрицы:\n",
    "\n",
    "   а) $\\begin{pmatrix}\n",
    "1 & 2 & 3\\\\ \n",
    "1 & 1 & 1\\\\ \n",
    "2 & 3 & 4\n",
    "\\end{pmatrix};$\n",
    "\n",
    "   б) $\\begin{pmatrix}\n",
    "0 & 0 & 2 & 1\\\\ \n",
    "0 & 0 & 2 & 2\\\\ \n",
    "0 & 0 & 4 & 3\\\\ \n",
    "2 & 3 & 5 & 6\n",
    "\\end{pmatrix}.$"
   ]
  },
  {
   "cell_type": "markdown",
   "metadata": {},
   "source": [
    "В матрице  $\\begin{pmatrix}\n",
    "1 & 2 & 3\\\\ \n",
    "1 & 1 & 1\\\\ \n",
    "2 & 3 & 4\n",
    "\\end{pmatrix}$ третью строку можно выразить как первую строку с прибавленной единицей, то есть третья строка является линейной комбинацией первой строки, аоэтому отбрасываем. Остается $\\begin{pmatrix}\n",
    "1 & 2 & 3\\\\ \n",
    "1 & 1 & 1\\\\\n",
    "\\end{pmatrix} $ ранг гкоторой равен 2"
   ]
  },
  {
   "cell_type": "markdown",
   "metadata": {},
   "source": [
    "В матрице $\\begin{pmatrix}\n",
    "0 & 0 & 2 & 1\\\\ \n",
    "0 & 0 & 2 & 2\\\\ \n",
    "0 & 0 & 4 & 3\\\\ \n",
    "2 & 3 & 5 & 6\n",
    "\\end{pmatrix}.$ третья строка равна сумме первой и второй строк, следовательно её можно отбросить, остается \n",
    "$\\begin{pmatrix}\n",
    "0 & 0 & 2 & 1\\\\ \n",
    "0 & 0 & 2 & 2\\\\\n",
    "2 & 3 & 5 & 6\n",
    "\\end{pmatrix}.$ строки являются линейно независимыми, поэтому ранг матрицы равен 3"
   ]
  }
 ],
 "metadata": {
  "kernelspec": {
   "display_name": "Python 3",
   "language": "python",
   "name": "python3"
  },
  "language_info": {
   "codemirror_mode": {
    "name": "ipython",
    "version": 3
   },
   "file_extension": ".py",
   "mimetype": "text/x-python",
   "name": "python",
   "nbconvert_exporter": "python",
   "pygments_lexer": "ipython3",
   "version": "3.6.5"
  }
 },
 "nbformat": 4,
 "nbformat_minor": 2
}
