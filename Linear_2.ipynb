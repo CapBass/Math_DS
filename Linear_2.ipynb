{
 "cells": [
  {
   "cell_type": "code",
   "execution_count": 1,
   "metadata": {},
   "outputs": [],
   "source": [
    "import numpy as np"
   ]
  },
  {
   "cell_type": "markdown",
   "metadata": {},
   "source": [
    "Все задания рекомендуется делать вручную, затем проверяя полученные результаты с использованием numpy.\n",
    "\n",
    "__1.__ Установить, какие произведения матриц $AB$ и $BA$ определены, и найти размерности полученных матриц:\n",
    "\n",
    "   а) $A$ — матрица $4\\times 2$, $B$ — матрица $4\\times 2$;\n",
    "    \n",
    "   б) $A$ — матрица $2\\times 5$, $B$ — матрица $5\\times 3$;\n",
    "    \n",
    "   в) $A$ — матрица $8\\times 3$, $B$ — матрица $3\\times 8$;\n",
    "    \n",
    "   г) $A$ — квадратная матрица $4\\times 4$, $B$ — квадратная матрица $4\\times 4$.\n"
   ]
  },
  {
   "cell_type": "markdown",
   "metadata": {},
   "source": [
    "$AB$ -  матрица не определена, $BA$ - матрица не определена\n",
    "\n",
    "$AB$ - матрица $5 \\times 5$, $BA$ - матрица не определена\n",
    "\n",
    "$AB$ - матрица $3 \\times 3$, $BA$ - матрица $8 \\times 8$\n",
    "\n",
    "$AB$ - матрица $4 \\times 4$, $BA$ - матрица $4 \\times 4$"
   ]
  },
  {
   "cell_type": "markdown",
   "metadata": {},
   "source": [
    "__2.__ Найти сумму и произведение матриц $A=\\begin{pmatrix}\n",
    "1 & -2\\\\ \n",
    "3 & 0\n",
    "\\end{pmatrix}$ и $B=\\begin{pmatrix}\n",
    "4 & -1\\\\ \n",
    "0 & 5\n",
    "\\end{pmatrix}.$"
   ]
  },
  {
   "cell_type": "markdown",
   "metadata": {},
   "source": [
    "$A=\\begin{pmatrix}\n",
    "1 & -2\\\\ \n",
    "3 & 0\n",
    "\\end{pmatrix}$,  $B=\\begin{pmatrix}\n",
    "4 & -1\\\\ \n",
    "0 & 5\n",
    "\\end{pmatrix}.$\n",
    "\n",
    "$A + B=\\begin{pmatrix}\n",
    "1 + 4 & -2 + (-1)\\\\ \n",
    "3 + 0 & 0 + 5\n",
    "\\end{pmatrix}$ = $\\begin{pmatrix}\n",
    "5 & -3\\\\ \n",
    "3 & 5\n",
    "\\end{pmatrix}.$\n",
    "\n",
    "\n",
    "$AB=\\begin{pmatrix}\n",
    "1 \\cdot 4 - 2 \\cdot 0  & 1 \\cdot -1 - 2 \\cdot 5\\\\ \n",
    "3 \\cdot 4 + 0 \\cdot 0  & 3 \\cdot -1 + 0 \\cdot 4\n",
    "\\end{pmatrix}$ = $\\begin{pmatrix}\n",
    "4 & -11\\\\ \n",
    "12 & -3\n",
    "\\end{pmatrix}.$"
   ]
  },
  {
   "cell_type": "markdown",
   "metadata": {},
   "source": [
    "__3.__ Из закономерностей сложения и умножения матриц на число можно сделать вывод, что матрицы одного размера образуют линейное пространство. Вычислить линейную комбинацию $3A-2B+4C$ для матриц $A=\\begin{pmatrix}\n",
    "1 & 7\\\\ \n",
    "3 & -6\n",
    "\\end{pmatrix}$, $B=\\begin{pmatrix}\n",
    "0 & 5\\\\ \n",
    "2 & -1\n",
    "\\end{pmatrix}$, $C=\\begin{pmatrix}\n",
    "2 & -4\\\\ \n",
    "1 & 1\n",
    "\\end{pmatrix}.$"
   ]
  },
  {
   "cell_type": "markdown",
   "metadata": {},
   "source": [
    "$3A=\\begin{pmatrix}\n",
    "3 \\cdot 1 & 3 \\cdot 7\\\\ \n",
    "3 \\cdot 3 & 3 \\cdot -6\n",
    "\\end{pmatrix}$ = $\\begin{pmatrix}\n",
    "3 & 21 \\\\ \n",
    "9 & -18\n",
    "\\end{pmatrix}$\n",
    "\n",
    "$2B=\\begin{pmatrix}\n",
    "2 \\cdot 0 & 2 \\cdot 5\\\\ \n",
    "2 \\cdot 2 & 2 \\cdot -1\n",
    "\\end{pmatrix}$ = $\\begin{pmatrix}\n",
    "0 & 10 \\\\ \n",
    "4 & -2\n",
    "\\end{pmatrix}$\n",
    "\n",
    "$4C=\\begin{pmatrix}\n",
    "4 \\cdot 2 & 4 \\cdot -4\\\\ \n",
    "4 \\cdot 1 & 4 \\cdot 1\n",
    "\\end{pmatrix}$ = $\\begin{pmatrix}\n",
    "8 & -16 \\\\ \n",
    "4 & 4\n",
    "\\end{pmatrix}$\n",
    "\n",
    "$3A - 2B=\\begin{pmatrix}\n",
    "3 - 0 & 21 - 10\\\\ \n",
    "9 - 4 & -18 + 2\n",
    "\\end{pmatrix}$ = $\\begin{pmatrix}\n",
    "3 & 11 \\\\ \n",
    "5 & -16\n",
    "\\end{pmatrix}$\n",
    "\n",
    "$3A - 2B + 4C =\\begin{pmatrix}\n",
    "3 + 8 & 11 - 16\\\\ \n",
    "5 + 4 & -16 + 4\n",
    "\\end{pmatrix}$ = $\\begin{pmatrix}\n",
    "11 & -5 \\\\ \n",
    "9 & -12\n",
    "\\end{pmatrix}$"
   ]
  },
  {
   "cell_type": "markdown",
   "metadata": {},
   "source": [
    "  \n",
    "__4.__ Дана матрица $A=\\begin{pmatrix}\n",
    "4 & 1\\\\ \n",
    "5 & -2\\\\ \n",
    "2 & 3\n",
    "\\end{pmatrix}$.\n",
    "Вычислить $AA^{T}$ и $A^{T}A$.\n"
   ]
  },
  {
   "cell_type": "markdown",
   "metadata": {},
   "source": [
    "$AA^T=\\begin{pmatrix}\n",
    "4 & 1\\\\ \n",
    "5 & -2\\\\ \n",
    "2 & 3\n",
    "\\end{pmatrix} \\cdot\n",
    "\\begin{pmatrix}\n",
    "4 & 5 & 2\\\\ \n",
    "1 & -2 & 3\n",
    "\\end{pmatrix} $ = $\\begin{pmatrix}\n",
    "4 \\cdot 4 + 1 \\cdot 1 & 4 \\cdot 5 + 1 \\cdot -2 & 4 \\cdot 2 + 1 \\cdot 3\\\\ \n",
    "5 \\cdot 4 - 2 \\cdot 1 & 5 \\cdot 5 - 2 \\cdot -2 & 5 \\cdot 2 - 2 \\cdot 3\\\\ \n",
    "2 \\cdot 4 + 3 \\cdot 1 & 2 \\cdot 5 + 3 \\cdot -2 & 2 \\cdot 2 + 3 \\cdot 3\n",
    "\\end{pmatrix} = \n",
    "\\begin{pmatrix}\n",
    "17 & 18 & 11\\\\ \n",
    "18 & 29 & 4\\\\ \n",
    "11 & 4 & 13\n",
    "\\end{pmatrix} $"
   ]
  },
  {
   "cell_type": "markdown",
   "metadata": {},
   "source": [
    "$A^TA=\\begin{pmatrix}\n",
    "4 & 5 & 2\\\\ \n",
    "1 & -2 & 3\n",
    "\\end{pmatrix} \\cdot\n",
    "\\begin{pmatrix}\n",
    "4 & 1\\\\ \n",
    "5 & -2\\\\ \n",
    "2 & 3\n",
    "\\end{pmatrix} $ = $\\begin{pmatrix}\n",
    "4 \\cdot 4 + 5 \\cdot 5 + 2 \\cdot 2 & 4 \\cdot 1 + 5 \\cdot -2 + 2 \\cdot 3\\\\ \n",
    "1 \\cdot 4 - 2 \\cdot 5 + 3 \\cdot 2 & 1 \\cdot 1 - 2 \\cdot -2 + 3 \\cdot 3\n",
    "\\end{pmatrix} = \n",
    "\\begin{pmatrix}\n",
    "45 & 0\\\\ \n",
    "0 & 14\n",
    "\\end{pmatrix} $"
   ]
  },
  {
   "cell_type": "markdown",
   "metadata": {},
   "source": [
    "__5*.__ Написать на Python функцию для перемножения двух произвольных матриц, не используя NumPy."
   ]
  },
  {
   "cell_type": "code",
   "execution_count": null,
   "metadata": {},
   "outputs": [],
   "source": []
  }
 ],
 "metadata": {
  "kernelspec": {
   "display_name": "Python 3",
   "language": "python",
   "name": "python3"
  },
  "language_info": {
   "codemirror_mode": {
    "name": "ipython",
    "version": 3
   },
   "file_extension": ".py",
   "mimetype": "text/x-python",
   "name": "python",
   "nbconvert_exporter": "python",
   "pygments_lexer": "ipython3",
   "version": "3.7.3"
  }
 },
 "nbformat": 4,
 "nbformat_minor": 2
}
