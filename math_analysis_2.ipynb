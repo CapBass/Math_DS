{
 "cells": [
  {
   "cell_type": "markdown",
   "metadata": {},
   "source": [
    "$$\\lim_{x \\to 0} \\frac{3x^3 - 2x^2}{4x^2} = \\frac{0}{0} $$\n",
    "\n",
    "$$\\lim_{x \\to 0} \\frac{3x^3 - 2x^2}{4x^2} = \\lim_{x \\to 0} \\frac{\\frac{3x^3 - 2x^2}{x^3}}{\\frac{4x^2}{x^3}} =  \\lim_{x \\to 0} \\frac {3 - 2x^{-1}}{4x^{-1}} = \\lim_{x \\to 0}  4x \\cdot 3 - \\frac{1}{2} = \\lim_{x \\to 0} 12x - \\frac{1}{2}= -\\frac{1}{2} $$"
   ]
  },
  {
   "cell_type": "markdown",
   "metadata": {},
   "source": [
    "$$\\lim_{x \\to 0} \\frac{\\sqrt{1+x}-1}{\\sqrt[3]{1+x}-1} = \\lim_{x \\to 0} \\frac{(\\sqrt{1+x}-1) \\cdot (\\sqrt{1+x}+1)}{(\\sqrt[3]{1+x}-1) \\cdot (\\sqrt{1+x}+1)} = \\lim_{x \\to 0} \\frac{1 + x - 1}{(\\sqrt[3]{1+x}-1) \\cdot (\\sqrt{1+x}+1)} = 0 $$"
   ]
  },
  {
   "cell_type": "markdown",
   "metadata": {},
   "source": [
    "$$ \\lim_{x \\to \\infty}  (\\frac{x + 3}{x})^{4x + 1} = \\lim_{x \\to \\infty} \\frac{(x+3)^{4x + 1}}{x^{4x + 1}} = \\lim_{x \\to \\infty} \\frac{(x+3)^{4x} \\cdot x + 3}{x^{4x} \\cdot x} = \\lim_{x \\to \\infty}\\frac{(x+3)^{4x} \\cdot x}{x^{4x} \\cdot x} + \\frac {3}{x^{4x} \\cdot x} = \\lim_{x \\to \\infty}\\frac{(x+3)^{4x}}{x^{4x}} + \\frac {3}{x^{4x} \\cdot x} = \\lim_{x \\to \\infty} (1 + \\frac{3}{x})^{4x} + 0 = e^{3 \\cdot 4} = e^{12} $$ "
   ]
  },
  {
   "cell_type": "code",
   "execution_count": null,
   "metadata": {},
   "outputs": [],
   "source": []
  }
 ],
 "metadata": {
  "kernelspec": {
   "display_name": "Python 3",
   "language": "python",
   "name": "python3"
  },
  "language_info": {
   "codemirror_mode": {
    "name": "ipython",
    "version": 3
   },
   "file_extension": ".py",
   "mimetype": "text/x-python",
   "name": "python",
   "nbconvert_exporter": "python",
   "pygments_lexer": "ipython3",
   "version": "3.6.5"
  }
 },
 "nbformat": 4,
 "nbformat_minor": 2
}
