{
 "cells": [
  {
   "cell_type": "code",
   "execution_count": 1,
   "metadata": {},
   "outputs": [],
   "source": [
    "import numpy as np\n",
    "import matplotlib.pyplot as plt"
   ]
  },
  {
   "cell_type": "markdown",
   "metadata": {},
   "source": [
    "### Задача 1, 2"
   ]
  },
  {
   "cell_type": "markdown",
   "metadata": {},
   "source": [
    "$f(x) = \\cos{x} $ - функция, которая не имеет предела в нуле и в бесконечностях\n",
    "\n",
    "$\\begin{equation*}\n",
    "  \\begin{cases}f(x) = 1, x \\in Q \\\\\n",
    "  f(x) = 0, x \\in \\frac{R}{Q}\n",
    "  \\end{cases}\n",
    "  \\end{equation*}\n",
    "$ - функция Дирихле, не имеющая предела в точке, но определенная в ней."
   ]
  },
  {
   "cell_type": "markdown",
   "metadata": {},
   "source": [
    "### Задача 3"
   ]
  },
  {
   "cell_type": "code",
   "execution_count": 61,
   "metadata": {},
   "outputs": [
    {
     "data": {
      "image/png": "[encoded data removed]",
      "text/plain": [
       "<Figure size 432x288 with 1 Axes>"
      ]
     },
     "metadata": {
      "needs_background": "light"
     },
     "output_type": "display_data"
    }
   ],
   "source": [
    "x = np.linspace(-5, 5, 100)\n",
    "y = x**3 - x**2\n",
    "plt.plot(x, y)\n",
    "plt.grid(True)\n",
    "plt.xlabel('x')\n",
    "plt.ylabel('f{x}');"
   ]
  },
  {
   "cell_type": "markdown",
   "metadata": {},
   "source": [
    "область задания функции ($-\\infty$, $\\infty$) или $R$\n",
    "\n",
    "область определения функции ($-\\infty$, $\\infty$) или $R$\n",
    "\n",
    "$ x^3 - x^2 = x^2 \\cdot (x - 1) = 0 $\n",
    "\n",
    "$x = 0 , x = 1$ - нули функции"
   ]
  },
  {
   "cell_type": "code",
   "execution_count": 70,
   "metadata": {},
   "outputs": [
    {
     "data": {
      "image/png": "[encoded data removed]",
      "text/plain": [
       "<Figure size 432x288 with 1 Axes>"
      ]
     },
     "metadata": {
      "needs_background": "light"
     },
     "output_type": "display_data"
    }
   ],
   "source": [
    "x = np.linspace(-1, 1, 100)\n",
    "y = x**3 - x**2\n",
    "plt.plot(x, y)\n",
    "plt.scatter((1,0), (0, 0))\n",
    "plt.grid(True)\n",
    "plt.xlabel('x')\n",
    "plt.ylabel('f{x}');"
   ]
  },
  {
   "cell_type": "markdown",
   "metadata": {},
   "source": [
    "$f(x) < 0$ на интервале от $(-\\infty, 0) \\cup (0, 1) $\n",
    "\n",
    "$f(x) > 0$ на интервале от $(1, \\infty)$"
   ]
  },
  {
   "cell_type": "markdown",
   "metadata": {},
   "source": [
    "$f(-x) = (-x)^3 - (-x)^2 = -x^3 - x^2 = -(x^3 + x^2) => f(-x) \\neq \\cup  f(x) \\neq -f(x) =>$ функция общего вида\n",
    "\n",
    "$f(x)$ не ограничена ни сверху, ни снизу\n",
    "\n",
    "$f(x)$ не является периодической"
   ]
  },
  {
   "cell_type": "markdown",
   "metadata": {},
   "source": [
    "### Задача 4"
   ]
  },
  {
   "cell_type": "markdown",
   "metadata": {},
   "source": [
    "$$\\lim_{x \\to 0} \\frac{3x^3 - 2x^2}{4x^2} = \\frac{0}{0} = \\lim_{x \\to 0} \\frac{\\frac{3x^3 - 2x^2}{x^3}}{\\frac{4x^2}{x^3}} =  \\lim_{x \\to 0} \\frac {3 - 2x^{-1}}{4x^{-1}} = \\lim_{x \\to 0}  4x \\cdot 3 - \\frac{1}{2} = \\lim_{x \\to 0} 12x - \\frac{1}{2}= -\\frac{1}{2} $$"
   ]
  },
  {
   "cell_type": "markdown",
   "metadata": {},
   "source": [
    "$$\\lim_{x \\to 0} \\frac{\\sqrt{1+x}-1}{\\sqrt[3]{1+x}-1} = \\frac{0}{0} = \\lim_{x \\to 0} \\frac{(\\sqrt{1+x}-1) \\cdot (\\sqrt{1+x}+1)}{(\\sqrt[3]{1+x}-1) \\cdot (\\sqrt{1+x}+1)} = \\lim_{x \\to 0} \\frac{1 + x - 1}{(\\sqrt[3]{1+x}-1) \\cdot (\\sqrt{1+x}+1)} = \\lim_{x \\to 0} \\frac{x \\cdot ((\\sqrt[3]{1+x})^2 + \\sqrt[3]{1+x} + 1) }{(\\sqrt[3]{1+x}-1) \\cdot ((\\sqrt[3]{1+x})^2 + \\sqrt[3]{1+x} + 1) \\cdot (\\sqrt{1+x}+1)} = \\lim_{x \\to 0} \\frac{x \\cdot ((\\sqrt[3]{1+x})^2 + \\sqrt[3]{1+x} + 1)}{x \\cdot ((\\sqrt{1+x}+1))} = \\frac{3}{2}$$"
   ]
  },
  {
   "cell_type": "markdown",
   "metadata": {},
   "source": [
    "$$ \\lim_{x \\to \\infty}  (\\frac{x + 3}{x})^{4x + 1} = {1}^{\\infty} = \\lim_{x \\to \\infty}(1 + \\frac{3}{x})^{4x} \\cdot (1 + \\frac{3}{x}) = \\lim_{x \\to \\infty}(1 + \\frac{1}{\\frac{x}{3}})^{\\frac{x}{3} \\cdot \\frac{3}{x} \\cdot 4x} \\cdot 1 = e^{\\lim_{x \\to \\infty} \\frac{12x}{x}} =  e^{12} $$ "
   ]
  },
  {
   "cell_type": "markdown",
   "metadata": {},
   "source": [
    "### Задача 5"
   ]
  },
  {
   "cell_type": "markdown",
   "metadata": {},
   "source": [
    "$$ \\lim_{x \\to 0} \\frac{\\sin{2x}}{4x} = \\frac{0}{0} =  \\lim_{x \\to 0} \\frac{\\frac{\\sin{2x}}{2}}{\\frac{4x}{2}} = \\lim_{x \\to 0} \\frac{\\sin{2x}}{2 \\cdot 2x} = \\lim_{x \\to 0} \\frac{1}{2} \\cdot \\frac{\\sin{2x}}{2x} = \\frac{1}{2} $$"
   ]
  },
  {
   "cell_type": "markdown",
   "metadata": {},
   "source": [
    "$$ \\lim_{x \\to 0} \\frac{x}{\\sin{x}} = \\frac{0}{0} = 1 $$ (следствие первого замечательного предела)"
   ]
  },
  {
   "cell_type": "markdown",
   "metadata": {},
   "source": [
    "$$\\lim_{x \\to 0} \\frac{x}{\\arcsin{x}}  = \\frac{0}{0} = 1$$ (следствие первого замечательного предела)"
   ]
  },
  {
   "cell_type": "markdown",
   "metadata": {},
   "source": [
    "$$\\lim_{x \\to \\infty}  (\\frac{4x + 3}{4x - 3})^{6x} = 1^{\\infty} =  \\lim_{x \\to \\infty}  (1 + \\frac{6}{4x - 3})^{6x} = \\lim_{x \\to \\infty}  (1 + \\frac{1}{\\frac{4x - 3}{6}})^{6x} = \\lim_{x \\to \\infty}  (1 + \\frac{1}{\\frac{4x - 3}{6}})^{\\frac{4x-3}{6} \\cdot \\frac{6}{4x-3} \\cdot 6x} =  e^{\\lim_{x \\to \\infty} \\frac{6}{4x-3} \\cdot 6x} = e^{\\lim_{x \\to \\infty} \\frac{36x}{4x-3}} = e^{\\lim_{x \\to \\infty} \\frac{36}{4-\\frac{3}{x}}} = e^9  $$ "
   ]
  },
  {
   "cell_type": "markdown",
   "metadata": {},
   "source": [
    "$$ \\lim_{x \\to \\infty} \\frac{\\sin{x} + \\ln{x}}{x} = \\frac{\\infty}{\\infty} = \\lim_{x \\to \\infty}\\frac{\\sin{x}}{x} + \\frac{\\ln{x}}{x} = \\lim_{x \\to \\infty} 0 + \\ln{x}^{\\frac{1}{x}} = \\lim_{x \\to \\infty} 0 + \\ln{x}^{0} = \\lim_{x \\to \\infty} 0 + \\ln{1} =  0 $$"
   ]
  }
 ],
 "metadata": {
  "kernelspec": {
   "display_name": "Python 3",
   "language": "python",
   "name": "python3"
  },
  "language_info": {
   "codemirror_mode": {
    "name": "ipython",
    "version": 3
   },
   "file_extension": ".py",
   "mimetype": "text/x-python",
   "name": "python",
   "nbconvert_exporter": "python",
   "pygments_lexer": "ipython3",
   "version": "3.7.3"
  }
 },
 "nbformat": 4,
 "nbformat_minor": 2
}
