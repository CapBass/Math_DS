{
 "cells": [
  {
   "cell_type": "markdown",
   "metadata": {},
   "source": [
    "$$\\lim_{x \\to 0} \\frac{3x^3 - 2x^2}{4x^2} = \\frac{0}{0} $$\n",
    "\n",
    "$$\\lim_{x \\to 0} \\frac{3x^3 - 2x^2}{4x^2} = \\lim_{x \\to 0} \\frac{\\frac{3x^3 - 2x^2}{x^3}}{\\frac{4x^2}{x^3}} =  \\lim_{x \\to 0} \\frac {3 - 2x^{-1}}{4x^{-1}} = \\lim_{x \\to 0}  4x \\cdot 3 - \\frac{1}{2} = \\lim_{x \\to 0} 12x - \\frac{1}{2}= -\\frac{1}{2} $$"
   ]
  },
  {
   "cell_type": "markdown",
   "metadata": {},
   "source": [
    "$$\\lim_{x \\to 0} \\frac{\\sqrt{1+x}-1}{\\sqrt[3]{1+x}-1} = \\lim_{x \\to 0} \\frac{(\\sqrt{1+x}-1) \\cdot (\\sqrt{1+x}+1)}{(\\sqrt[3]{1+x}-1) \\cdot (\\sqrt{1+x}+1)} = \\lim_{x \\to 0} \\frac{1 + x - 1}{(\\sqrt[3]{1+x}-1) \\cdot (\\sqrt{1+x}+1)} = \\lim_{x \\to 0} \\frac{x \\cdot ((\\sqrt[3]{1+x})^2 + \\sqrt[3]{1+x} + 1) }{(\\sqrt[3]{1+x}-1) \\cdot ((\\sqrt[3]{1+x})^2 + \\sqrt[3]{1+x} + 1) \\cdot (\\sqrt{1+x}+1)} = \\lim_{x \\to 0} \\frac{x \\cdot ((\\sqrt[3]{1+x})^2 + \\sqrt[3]{1+x} + 1)}{x \\cdot ((\\sqrt{1+x}+1))} = \\frac{3}{2}$$"
   ]
  },
  {
   "cell_type": "markdown",
   "metadata": {},
   "source": [
    "$$ \\lim_{x \\to \\infty}  (\\frac{x + 3}{x})^{4x + 1} = \\lim_{x \\to \\infty}(1 + \\frac{3}{x})^{4x} \\cdot (1 + \\frac{3}{x}) = \\lim_{x \\to \\infty}(1 + \\frac{1}{\\frac{x}{3}})^{\\frac{x}{3} \\cdot \\frac{3}{x} \\cdot 4x} \\cdot 1 = e^{\\lim_{x \\to \\infty} \\frac{12x}{x}} =  e^{12} $$ "
   ]
  },
  {
   "cell_type": "markdown",
   "metadata": {},
   "source": [
    "$$ \\lim_{x \\to 0} \\frac{\\sin{2x}}{4x} =  \\lim_{x \\to 0} \\frac{\\frac{\\sin{2x}}{2}}{\\frac{4x}{2}} = \\lim_{x \\to 0} \\frac{\\sin{2x}}{2 \\cdot 2x} = \\lim_{x \\to 0} \\frac{1}{2} \\cdot \\frac{\\sin{2x}}{2x} = \\frac{1}{2} $$"
   ]
  },
  {
   "cell_type": "markdown",
   "metadata": {},
   "source": [
    "$$ \\lim_{x \\to 0} \\frac{x}{\\sin{x}} = 1 $$"
   ]
  },
  {
   "cell_type": "markdown",
   "metadata": {},
   "source": [
    "$$\\lim_{x \\to 0} \\frac{x}{\\arcsin{x}}  = 1$$"
   ]
  },
  {
   "cell_type": "markdown",
   "metadata": {},
   "source": [
    "$$\\lim_{x \\to \\infty}  (\\frac{4x + 3}{4x - 3})^{6x} = \\lim_{x \\to \\infty}  (1 + \\frac{6}{4x - 3})^{6x} = \\lim_{x \\to \\infty}  (1 + \\frac{1}{\\frac{4x - 3}{6}})^{6x} = \\lim_{x \\to \\infty}  (1 + \\frac{1}{\\frac{4x - 3}{6}})^{\\frac{4x-3}{6} \\cdot \\frac{6}{4x-3} \\cdot 6x} =  e^{\\lim_{x \\to \\infty} \\frac{6}{4x-3} \\cdot 6x} = e^{\\lim_{x \\to \\infty} \\frac{36x}{4x-3}} = e^{\\lim_{x \\to \\infty} \\frac{36}{4-\\frac{3}{x}}} = e^9  $$ "
   ]
  },
  {
   "cell_type": "markdown",
   "metadata": {},
   "source": [
    "$$ \\lim_{x \\to \\infty} \\frac{\\sin{x} + \\ln{x}}{x} = \\lim_{x \\to \\infty}\\frac{\\sin{x}}{x} + \\frac{\\ln{x}}{x} = \\lim_{x \\to \\infty} 0 + 0 = 0 $$"
   ]
  },
  {
   "cell_type": "code",
   "execution_count": null,
   "metadata": {},
   "outputs": [],
   "source": []
  }
 ],
 "metadata": {
  "kernelspec": {
   "display_name": "Python 3",
   "language": "python",
   "name": "python3"
  },
  "language_info": {
   "codemirror_mode": {
    "name": "ipython",
    "version": 3
   },
   "file_extension": ".py",
   "mimetype": "text/x-python",
   "name": "python",
   "nbconvert_exporter": "python",
   "pygments_lexer": "ipython3",
   "version": "3.6.5"
  }
 },
 "nbformat": 4,
 "nbformat_minor": 2
}
