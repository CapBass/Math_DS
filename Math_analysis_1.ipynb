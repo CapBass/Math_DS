{
 "cells": [
  {
   "cell_type": "markdown",
   "metadata": {},
   "source": [
    "# Введение"
   ]
  },
  {
   "cell_type": "markdown",
   "metadata": {},
   "source": [
    "Как относятся друг к другу множество и последовательность? (в ответе использовать слова типа: часть, целое, общее, частное, родитель, дочерний субъект и т.д.)"
   ]
  },
  {
   "cell_type": "markdown",
   "metadata": {},
   "source": [
    "**Ответ**: последовательность представляет общее правило нахождения n-ого натурального элемента в заданном множестве, которому соответствует число последовательности. Любой элемент из заданного множества является частью последовательности"
   ]
  },
  {
   "cell_type": "markdown",
   "metadata": {},
   "source": [
    "#### Дать определение математическим высказываниям, установить их истинность и построить отрицание"
   ]
  },
  {
   "cell_type": "markdown",
   "metadata": {},
   "source": [
    "$$\\forall y \\in [0; 1]: sgn(y) = 1  $$\n"
   ]
  },
  {
   "cell_type": "markdown",
   "metadata": {},
   "source": [
    "**Интерпретация**: любой y, который принимает значение  0 или 1  такой, что знак от y равен 1.\n",
    "\n",
    "**Истинность:**  утверждение истино, так как знак = 1 при y = 1, который принадлежит заданному множеству\n",
    "\n",
    "**Отрицание:** $\\exists y \\in [0; 1]: sgn(y) \\neq 1  $"
   ]
  },
  {
   "cell_type": "markdown",
   "metadata": {},
   "source": [
    "$$\\forall n \\in N > 2: \\exists x, y, z \\in N: x^n = y^n + z^n  $$"
   ]
  },
  {
   "cell_type": "markdown",
   "metadata": {},
   "source": [
    "**Интерпретация**: для любого натурального n больше 2 уравнение $x^n = y^n + z^n $ имеет решение в натуральных числах $x$, $y$, $z$\n",
    "\n",
    "**Истинность:** утверждение ложно, так как теорема Ферма утверждает, что среди целых чисел нет решения для уравнения $x^n = y^n + z^n $\n",
    "\n",
    "**Отрицание:** $\\exists n \\in N \\leq 2: \\forall x, y, z \\in N: x^n \\neq y^n + z^n  $\n"
   ]
  },
  {
   "cell_type": "markdown",
   "metadata": {},
   "source": [
    "$$\\forall x \\in R \\exists X \\in R:X > x $$"
   ]
  },
  {
   "cell_type": "markdown",
   "metadata": {},
   "source": [
    "**Интерпретация**: для любого вещественного числа x найдется такое вещественное число Х, такое что Х больше x\n",
    "\n",
    "**Истинность:** утверждение истино, так как для любого вещественного числа всегда есть большее вещественное число $x \\in R, X \\in x + R $\n",
    "\n",
    "**Отрицание:** $\\exists x \\in R \\forall X \\in R:X \\leq x $\n"
   ]
  },
  {
   "cell_type": "markdown",
   "metadata": {},
   "source": [
    "$$ \\forall x \\in C \\nexists y \\in C: x > y || x < y $$"
   ]
  },
  {
   "cell_type": "markdown",
   "metadata": {},
   "source": [
    "**Интерпретация**: для любого комплексного числа x не существует комплексного числа y, которое меньше или больше чем x\n",
    "\n",
    "**Истинность:** условие истинно, так как из-за мнимой единицы нет объективного способа сравнения комплексных чисел\n",
    "\n",
    "**Отрицание:** $ \\forall x \\in C \\exists y \\in C: x > y || x < y $"
   ]
  },
  {
   "cell_type": "markdown",
   "metadata": {},
   "source": [
    "$$ \\forall y \\in [0; \\frac{\\pi}{2}] \\exists \\epsilon > 0: \\sin y < \\sin(y + \\epsilon) $$"
   ]
  },
  {
   "cell_type": "markdown",
   "metadata": {},
   "source": [
    "**Интерпретация**: для любого угла  0 или 90 градусов существует положительный эпсилон, при котором синус угла y меньше синуса угла  y + эпсилон \n",
    "\n",
    "**Истинность:** утверждение ложно, так как при $y = \\frac{\\pi}{2}$, условие $ \\sin y < \\sin(y + \\epsilon) $ не выполняется при любом положительном $ \\epsilon $\n",
    "\n",
    "**Отрицание:** $ \\exists y \\in [0; \\frac{\\pi}{2}] \\forall \\epsilon \\leq 0: \\sin y \\geq \\sin(y + \\epsilon) $"
   ]
  },
  {
   "cell_type": "markdown",
   "metadata": {},
   "source": [
    "$$ \\forall y \\in [0; \\pi] \\exists \\epsilon > 0: \\cos y > \\cos (y + \\epsilon) $$"
   ]
  },
  {
   "cell_type": "markdown",
   "metadata": {},
   "source": [
    "**Интерпретация**: для любого угла  0 или пи радиан существует положительный эпсилон, при котором косинус угла y больше косинуса угла  y + эпсилон \n",
    "\n",
    "**Истинность:** утверждение ложно, так как при $y = \\pi$, условие $ \\cos y > \\cos(y + \\epsilon) $ не выполняется при любом положительном $ \\epsilon $\n",
    "\n",
    "**Отрицание:** $ \\exists y \\in [0; \\pi] \\forall \\epsilon \\leq 0: \\cos y \\leq \\cos(y + \\epsilon) $"
   ]
  },
  {
   "cell_type": "markdown",
   "metadata": {},
   "source": [
    "$$\\exists x: x \\notin (N, Z, Q, R, C) $$"
   ]
  },
  {
   "cell_type": "markdown",
   "metadata": {},
   "source": [
    "**Интерпретация:** существует число, которое не является ни натуральным, ни целым, не рациональным, ни вещественным, ни комплексным\n",
    "\n",
    "**Истинность:** утверждение ложно, так как не существует чисел в подмножестве натуральных чисел\n",
    "\n",
    "**Отрицание:**  $$ \\exists x: x \\in (N, Z, Q, R, C) $$"
   ]
  },
  {
   "cell_type": "markdown",
   "metadata": {},
   "source": [
    "# Множества"
   ]
  },
  {
   "cell_type": "markdown",
   "metadata": {},
   "source": [
    "#### Даны множества a , b , c. Необходимо провести все виды бинарных операций над ними"
   ]
  },
  {
   "cell_type": "code",
   "execution_count": 1,
   "metadata": {},
   "outputs": [],
   "source": [
    "a = set([10, 20 , 40, 50])\n",
    "b = set([30, 40, 50, 60])\n",
    "c = set([10, 40, 60, 70])"
   ]
  },
  {
   "cell_type": "markdown",
   "metadata": {},
   "source": [
    "$$A \\cap B \\cap C  $$"
   ]
  },
  {
   "cell_type": "code",
   "execution_count": 2,
   "metadata": {},
   "outputs": [
    {
     "data": {
      "text/plain": [
       "{40}"
      ]
     },
     "execution_count": 2,
     "metadata": {},
     "output_type": "execute_result"
    }
   ],
   "source": [
    "a.intersection(b, c)"
   ]
  },
  {
   "cell_type": "markdown",
   "metadata": {},
   "source": [
    "$$A \\cap B \\cup C $$"
   ]
  },
  {
   "cell_type": "code",
   "execution_count": 3,
   "metadata": {},
   "outputs": [
    {
     "data": {
      "text/plain": [
       "{10, 40, 50, 60, 70}"
      ]
     },
     "execution_count": 3,
     "metadata": {},
     "output_type": "execute_result"
    }
   ],
   "source": [
    "a.intersection(b).union(c)"
   ]
  },
  {
   "cell_type": "markdown",
   "metadata": {},
   "source": [
    "$$(A \\cup B) \\cap C $$"
   ]
  },
  {
   "cell_type": "code",
   "execution_count": 4,
   "metadata": {},
   "outputs": [
    {
     "data": {
      "text/plain": [
       "{10, 40, 60}"
      ]
     },
     "execution_count": 4,
     "metadata": {},
     "output_type": "execute_result"
    }
   ],
   "source": [
    "a.union(b).intersection(c)"
   ]
  },
  {
   "cell_type": "markdown",
   "metadata": {},
   "source": [
    "$$ A \\setminus B $$"
   ]
  },
  {
   "cell_type": "code",
   "execution_count": 5,
   "metadata": {},
   "outputs": [
    {
     "data": {
      "text/plain": [
       "{10, 20}"
      ]
     },
     "execution_count": 5,
     "metadata": {},
     "output_type": "execute_result"
    }
   ],
   "source": [
    "a.difference(b)"
   ]
  },
  {
   "cell_type": "markdown",
   "metadata": {},
   "source": [
    "$$ (B \\setminus C) \\cap A $$"
   ]
  },
  {
   "cell_type": "code",
   "execution_count": 6,
   "metadata": {},
   "outputs": [
    {
     "data": {
      "text/plain": [
       "{50}"
      ]
     },
     "execution_count": 6,
     "metadata": {},
     "output_type": "execute_result"
    }
   ],
   "source": [
    "b.difference(c).intersection(a)"
   ]
  },
  {
   "cell_type": "markdown",
   "metadata": {},
   "source": [
    "$$A \\bigtriangleup B $$"
   ]
  },
  {
   "cell_type": "code",
   "execution_count": 7,
   "metadata": {},
   "outputs": [
    {
     "data": {
      "text/plain": [
       "{10, 20, 30, 60}"
      ]
     },
     "execution_count": 7,
     "metadata": {},
     "output_type": "execute_result"
    }
   ],
   "source": [
    "a.symmetric_difference(b)"
   ]
  },
  {
   "cell_type": "markdown",
   "metadata": {},
   "source": [
    "$$ B \\bigtriangleup C \\cup A $$"
   ]
  },
  {
   "cell_type": "code",
   "execution_count": 8,
   "metadata": {},
   "outputs": [
    {
     "data": {
      "text/plain": [
       "{10, 20, 30, 40, 50, 70}"
      ]
     },
     "execution_count": 8,
     "metadata": {},
     "output_type": "execute_result"
    }
   ],
   "source": [
    "b.symmetric_difference(c).union(a)"
   ]
  },
  {
   "cell_type": "markdown",
   "metadata": {},
   "source": [
    "$$ A \\times B \\times C $$"
   ]
  },
  {
   "cell_type": "code",
   "execution_count": 9,
   "metadata": {},
   "outputs": [
    {
     "name": "stdout",
     "output_type": "stream",
     "text": [
      "{(10, 40, 10), (10, 50, 70), (20, 30, 60), (20, 30, 10), (10, 40, 60), (10, 60, 40), (10, 60, 70), (10, 30, 40), (40, 40, 10), (10, 30, 70), (10, 50, 40), (20, 60, 60), (40, 30, 10), (10, 40, 40), (10, 60, 60), (50, 30, 60), (10, 50, 60), (20, 60, 40), (10, 30, 10), (20, 30, 70), (40, 50, 40), (50, 30, 40), (40, 30, 40), (20, 50, 70), (50, 40, 70), (20, 40, 10), (50, 50, 10), (40, 50, 60), (50, 60, 10), (40, 60, 40), (20, 50, 10), (50, 40, 10), (40, 40, 70), (20, 40, 70), (50, 50, 70), (20, 50, 60), (50, 40, 60), (40, 60, 60), (50, 60, 40), (40, 60, 10), (20, 50, 40), (50, 40, 40), (40, 50, 10), (50, 60, 60), (50, 30, 70), (50, 60, 70), (20, 40, 40), (50, 50, 40), (20, 60, 70), (20, 30, 40), (40, 60, 70), (10, 40, 70), (10, 30, 60), (10, 50, 10), (20, 40, 60), (50, 50, 60), (20, 60, 10), (40, 40, 60), (40, 30, 70), (40, 50, 70), (50, 30, 10), (10, 60, 10), (40, 30, 60), (40, 40, 40)}\n"
     ]
    }
   ],
   "source": [
    "import itertools\n",
    "print(set(itertools.product(a, b, c)))"
   ]
  },
  {
   "cell_type": "markdown",
   "metadata": {},
   "source": [
    "# Последовательности"
   ]
  },
  {
   "cell_type": "markdown",
   "metadata": {},
   "source": [
    "#### Даны последовательности, нужно определить их монотонность, ограничения и найти 5 по счету член последовательности"
   ]
  },
  {
   "cell_type": "markdown",
   "metadata": {},
   "source": [
    "$ 2^n - n $ - последовательность монотонно возрастающая, ограниченная снизу единицей и неограничена сверху $ 1 \\leq n < inf$; пятый член последовательности принимает значение $2$\n",
    "\n",
    "$ \\frac{1}{1-n} $ - последовательность монотоноо возрастающая, ограничена снизу -1, а сверху ограничена нулем  $-1 \\leq n < 0 $; пятый член последовательности принимает значение $- 0.2$\n",
    "\n",
    "$ -1^n + \\sqrt{2n} $ - последовательность монотонно возрастает, снизу ограничена $-1 + \\sqrt{2}$ и неогрничена сверху $-1 + \\sqrt{2} \\leq n < inf $, пятый член последовательности принимает значение $2.162$\n",
    "\n",
    "$(-1)^{2n} + \\frac{1}{n^2}$ - последовательность монотонно убывает, последовательность ограничена сверху двойкой и ограничена снизу единицей $ 2 \\geq n > 1 $, пятый член последовательности принимает значение $1.04$"
   ]
  },
  {
   "cell_type": "markdown",
   "metadata": {},
   "source": [
    "#### Найти 12 член последовательности $$ a_1 = 128, a_{n+1} - a_n = 6 $$"
   ]
  },
  {
   "cell_type": "code",
   "execution_count": 10,
   "metadata": {},
   "outputs": [
    {
     "name": "stdout",
     "output_type": "stream",
     "text": [
      "12 член последовательности равен 194\n"
     ]
    }
   ],
   "source": [
    "n = 12\n",
    "a = 128\n",
    "for i in range(n-1):\n",
    "    a_next = a + 6\n",
    "    a = a_next\n",
    "\n",
    "print(f'12 член последовательности равен {a}')"
   ]
  },
  {
   "cell_type": "markdown",
   "metadata": {},
   "source": [
    "#### Вычиселить численно предел последовательности с точностью $10^{-7}$ $$\\lim \\frac{n}{\\sqrt[n]{n!}} $$"
   ]
  },
  {
   "cell_type": "code",
   "execution_count": 11,
   "metadata": {},
   "outputs": [],
   "source": [
    "def n_qrt_faqctirial(n):\n",
    "    result = 1\n",
    "    for i in range(1, n + 1):\n",
    "        result *= i ** (1/n) \n",
    "    return result\n",
    "    \n",
    "def calc_exp(n):\n",
    "    return n / n_qrt_faqctirial(n)"
   ]
  },
  {
   "cell_type": "code",
   "execution_count": 12,
   "metadata": {},
   "outputs": [
    {
     "name": "stdout",
     "output_type": "stream",
     "text": [
      "лимит 2.7169884237242394 найден за 11777 шагов \n"
     ]
    }
   ],
   "source": [
    "n = 2\n",
    "count = 0\n",
    "epsilon = 1e-07\n",
    "while abs(calc_exp(n) - calc_exp(n - 1)) > epsilon:   \n",
    "    n += 1\n",
    "    count += 1\n",
    "    \n",
    "print(f'лимит {calc_exp(n)} найден за {count} шагов ')"
   ]
  },
  {
   "cell_type": "code",
   "execution_count": 13,
   "metadata": {},
   "outputs": [
    {
     "name": "stdout",
     "output_type": "stream",
     "text": [
      "лимит 2.7169907192023413 найден за 118 шагов \n"
     ]
    }
   ],
   "source": [
    "n = 2\n",
    "p = 100\n",
    "count = 0\n",
    "epsilon = 1e-07\n",
    "while abs(calc_exp(n) - calc_exp(n - 1)) > epsilon:    \n",
    "    n += p\n",
    "    count += 1    \n",
    "print(f'лимит {calc_exp(n)} найден за {count} шагов ')"
   ]
  }
 ],
 "metadata": {
  "kernelspec": {
   "display_name": "Python 3",
   "language": "python",
   "name": "python3"
  },
  "language_info": {
   "codemirror_mode": {
    "name": "ipython",
    "version": 3
   },
   "file_extension": ".py",
   "mimetype": "text/x-python",
   "name": "python",
   "nbconvert_exporter": "python",
   "pygments_lexer": "ipython3",
   "version": "3.6.5"
  }
 },
 "nbformat": 4,
 "nbformat_minor": 2
}
