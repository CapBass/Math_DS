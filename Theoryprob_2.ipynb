{
 "cells": [
  {
   "cell_type": "code",
   "execution_count": 1,
   "metadata": {},
   "outputs": [],
   "source": [
    "import numpy as np\n",
    "import matplotlib.pyplot as plt"
   ]
  },
  {
   "cell_type": "markdown",
   "metadata": {},
   "source": [
    "### Задача 1\n",
    "Контрольная работа состоит из пяти вопросов. На каждый вопрос приведено четыре варианта ответа, один из которых правильный. Составьте закон распределения числа правильных ответов при простом угадывании. Найдите M(X), D(X)."
   ]
  },
  {
   "cell_type": "code",
   "execution_count": 2,
   "metadata": {},
   "outputs": [],
   "source": [
    "def combinations(n, k):\n",
    "    \"\"\"Функция возвращает сочетание\"\"\"\n",
    "    return int(np.math.factorial(n) / (np.math.factorial(k) * np.math.factorial(n - k)))\n",
    "\n",
    "def Bernoulli(n, k, p):\n",
    "    \"\"\"Функция считает и возвращает результат распределения Бернулли\"\"\"\n",
    "    return combinations(n, k) * p ** k * (1 - p) ** (n - k)"
   ]
  },
  {
   "cell_type": "code",
   "execution_count": 3,
   "metadata": {},
   "outputs": [],
   "source": [
    "x_values = np.array([0, 1, 2, 3, 4, 5]) # количество возможных правильных ответов\n",
    "p = 0.25 # Вероятность правильного ответа в одном вопросе\n",
    "n = 5 # Всего вопросов"
   ]
  },
  {
   "cell_type": "code",
   "execution_count": 4,
   "metadata": {},
   "outputs": [
    {
     "name": "stdout",
     "output_type": "stream",
     "text": [
      "[0.23730469 0.39550781 0.26367188 0.08789062 0.01464844 0.00097656] 1.25 0.9375\n"
     ]
    }
   ],
   "source": [
    "distribution = np.array([]) # закон распределения\n",
    "for k in x_values:\n",
    "    distribution = np.append(distribution, Bernoulli(n, k, p))\n",
    "M_x = n * p # мат ожидание\n",
    "D_x = n * p * (1 - p) # Дисперсия\n",
    "print(distribution, M_x, D_x)"
   ]
  },
  {
   "cell_type": "markdown",
   "metadata": {},
   "source": [
    "<table border=\"3\">\n",
    "    <tr>\n",
    "        <th>$x$</th>\n",
    "        <td>0</td>\n",
    "        <td>1</td>\n",
    "        <td>2</td>\n",
    "        <td>3</td>\n",
    "        <td>4</td>\n",
    "        <td>5</td>\n",
    "</tr>\n",
    "    <tr>\n",
    "        <th>$P(X=x)$</th>\n",
    "        <td>0.23730469</td>\n",
    "        <td>0.39550781</td>\n",
    "        <td>0.26367188</td>\n",
    "        <td>0.08789062</td>\n",
    "        <td>0.01464844</td>\n",
    "        <td>0.00097656</td>\n",
    "    </tr>\n",
    "</table>\n",
    "\n",
    "$M(X)$ = 1.25\n",
    "\n",
    "$D(X)$ = 0.9375"
   ]
  },
  {
   "cell_type": "code",
   "execution_count": 5,
   "metadata": {},
   "outputs": [
    {
     "data": {
      "image/png": "[encoded data removed]",
      "text/plain": [
       "<Figure size 432x288 with 1 Axes>"
      ]
     },
     "metadata": {},
     "output_type": "display_data"
    }
   ],
   "source": [
    "plt.plot(x_values, distribution) # график закона распределения\n",
    "plt.xlabel('X')\n",
    "plt.ylabel('P');"
   ]
  },
  {
   "cell_type": "markdown",
   "metadata": {},
   "source": [
    "### Задача 2\n",
    "Вероятность попадания в цель при одном выстреле равна 0.01. Какова вероятность того, что число попаданий при 200 выстрелах будет не менее 5 и не более 10?"
   ]
  },
  {
   "cell_type": "code",
   "execution_count": 6,
   "metadata": {},
   "outputs": [],
   "source": [
    "n = 200 # Всего выстрелов\n",
    "p = 0.01 # Вероятность попадания в цель за 1 выстрел\n",
    "k_values = np.arange(5, 11) # массив требуемых успешных попаданий\n",
    "a = n * p"
   ]
  },
  {
   "cell_type": "code",
   "execution_count": 7,
   "metadata": {},
   "outputs": [],
   "source": [
    "def Poisson(a, k):\n",
    "    \"\"\"Функция возвращает распределение Пуассона\"\"\"\n",
    "    return (a ** k) * (np.exp(-a)) / np.math.factorial(k)"
   ]
  },
  {
   "cell_type": "code",
   "execution_count": 8,
   "metadata": {},
   "outputs": [
    {
     "data": {
      "text/plain": [
       "0.052644709119342686"
      ]
     },
     "execution_count": 8,
     "metadata": {},
     "output_type": "execute_result"
    }
   ],
   "source": [
    "result = 0\n",
    "for k in k_values:\n",
    "    result += Poisson(a, k)    \n",
    "result # Ответ на задачу"
   ]
  },
  {
   "cell_type": "markdown",
   "metadata": {},
   "source": [
    "### Задача 3\n",
    "В условиях предыдущей задачи сколько выстрелов нужно сделать чтобы быть уверенным с вероятностью 0.9, что хотя бы 10 раз будет совершено попадание?\n",
    "\n",
    "Подсказка. Как посчитать P(X >= k) для величины X, имеющей распределение Пуассона? Здесь предстоит немножко покодить."
   ]
  },
  {
   "cell_type": "code",
   "execution_count": 9,
   "metadata": {},
   "outputs": [],
   "source": [
    "n_values = np.arange(10, 2000) # Рассматриваемый диапазон выстрелов\n",
    "target = 10 # минимальное требуемое количество попаданий\n",
    "target_prob = 0.9 # требуемая вероятность\n",
    "result = 0 # минимальное количество выстрелов, чтобы достичь цели\n",
    "k_values = np.arange(0, target) # берем k от 0 до 9\n",
    "for n in n_values: # пробегаемся по n     \n",
    "    a = n * p\n",
    "    prob = 0 # вероятность того, что для n попаданий будет меньше 10\n",
    "    for k in k_values:\n",
    "        prob += Poisson(a, k)    \n",
    "    if  1 - prob >= target_prob: # сравниваем обратную вероятность (попадут как минимум 10) с целевой\n",
    "        result = n # записываем результат\n",
    "        break # прерываем цикл"
   ]
  },
  {
   "cell_type": "code",
   "execution_count": 10,
   "metadata": {},
   "outputs": [
    {
     "name": "stdout",
     "output_type": "stream",
     "text": [
      "требуется совершить минимум 1421 выстрел\n"
     ]
    }
   ],
   "source": [
    "print(f'требуется совершить минимум {result} выстрел')"
   ]
  }
 ],
 "metadata": {
  "kernelspec": {
   "display_name": "Python 3",
   "language": "python",
   "name": "python3"
  },
  "language_info": {
   "codemirror_mode": {
    "name": "ipython",
    "version": 3
   },
   "file_extension": ".py",
   "mimetype": "text/x-python",
   "name": "python",
   "nbconvert_exporter": "python",
   "pygments_lexer": "ipython3",
   "version": "3.6.5"
  }
 },
 "nbformat": 4,
 "nbformat_minor": 2
}
