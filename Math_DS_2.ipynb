{
 "cells": [
  {
   "cell_type": "code",
   "execution_count": 1,
   "metadata": {},
   "outputs": [],
   "source": [
    "import numpy as np\n",
    "import random\n",
    "import matplotlib.pyplot as plt\n",
    "import itertools\n",
    "import math\n",
    "\n",
    "%matplotlib inline"
   ]
  },
  {
   "cell_type": "markdown",
   "metadata": {},
   "source": [
    "4.1 Напишите код, моделирующий выпадение поля в рулетке (с учетом поля зеро)."
   ]
  },
  {
   "cell_type": "code",
   "execution_count": 2,
   "metadata": {},
   "outputs": [
    {
     "name": "stdout",
     "output_type": "stream",
     "text": [
      "выпало 1\n",
      "выпало 2\n",
      "выпало 18\n",
      "выпало 31\n",
      "выпало 5\n",
      "выпало 6\n",
      "выпало 1\n",
      "выпало 22\n",
      "выпало 19\n",
      "выпало 25\n"
     ]
    }
   ],
   "source": [
    "N = 10\n",
    "\n",
    "for i in range(N):\n",
    "    x = random.randint(0, 36)\n",
    "    print(f'выпало {x}')"
   ]
  },
  {
   "cell_type": "markdown",
   "metadata": {},
   "source": [
    "4.2.1 Напишите код, проверяющий любую из теорем сложения или умножения вероятности на примере подбрасывания монетки"
   ]
  },
  {
   "cell_type": "code",
   "execution_count": 3,
   "metadata": {},
   "outputs": [
    {
     "name": "stdout",
     "output_type": "stream",
     "text": [
      "выпало орлов 54, выпало решек 46\n",
      "Сумма вероятностей всех событий дает единицу, 54 + 46 = 100,\n",
      "100 / 100 = 1\n"
     ]
    }
   ],
   "source": [
    "t, l = 0, 0\n",
    "N = 100\n",
    "\n",
    "for i in range(N):\n",
    "    x = random.randint(1, 10)\n",
    "    if x <= 5:\n",
    "        t += 1\n",
    "    else:\n",
    "        l += 1\n",
    "        \n",
    "print(f'выпало орлов {t}, выпало решек {l}')\n",
    "print(f'Сумма вероятностей всех событий дает единицу, {t} + {l} = {t + l},\\n'\n",
    "      f'{t + l} / {N} = 1')\n"
   ]
  },
  {
   "cell_type": "markdown",
   "metadata": {},
   "source": [
    "4.2.2 На конфетной фабрике собирают подарки к Новому Году из n=10 видов конфет. Берут примерно по M=100 г конфет каждого вида (но точно не получается, а выходит плюс-минус m, напр. 95...105 г). Т.е. выйдет вес всего подарка 1 кг плюс-минус накопленная погрешность. Всего собирают N=10000 подарков. Надо построить гистограмму распределения веса подарка. Ну и при желании- поиграться с параметрами N,n,M,m."
   ]
  },
  {
   "cell_type": "code",
   "execution_count": 4,
   "metadata": {},
   "outputs": [
    {
     "data": {
      "image/png": "[encoded data removed]",
      "text/plain": [
       "<Figure size 432x288 with 1 Axes>"
      ]
     },
     "metadata": {
      "needs_background": "light"
     },
     "output_type": "display_data"
    }
   ],
   "source": [
    "random_sum = []\n",
    "N = 10000\n",
    "n = 10\n",
    "M = 100\n",
    "m = 5\n",
    "for i in range(N):\n",
    "    sum_ = 0\n",
    "    for j in range(n):\n",
    "        x = random.randint(M - m, M + m)        \n",
    "        sum_ += x\n",
    "    random_sum.append(sum_)\n",
    "        \n",
    "plt.hist(random_sum, bins=20);"
   ]
  },
  {
   "cell_type": "markdown",
   "metadata": {},
   "source": [
    "4.3.1 Дополните код Монте-Карло последовательности независимых испытаний расчетом соответствующих вероятностей (через биномиальное распределение) \n",
    "и сравните результаты."
   ]
  },
  {
   "cell_type": "code",
   "execution_count": 5,
   "metadata": {},
   "outputs": [],
   "source": [
    "def binomial(n, k, p):    \n",
    "    C = math.factorial(n)/(math.factorial(n - k) * math.factorial(k))\n",
    "    value = C * p**k * (1 - p)**(n - k)\n",
    "    return value"
   ]
  },
  {
   "cell_type": "code",
   "execution_count": 6,
   "metadata": {},
   "outputs": [
    {
     "name": "stdout",
     "output_type": "stream",
     "text": [
      "истинная вероятность 0.375\n",
      "3747 10000 0.3747\n"
     ]
    }
   ],
   "source": [
    "print('истинная вероятность', binomial(4, 2, 0.5))\n",
    "\n",
    "k, n = 0, 10000\n",
    "a = np.random.randint(0, 2, n)\n",
    "b = np.random.randint(0, 2, n)\n",
    "c = np.random.randint(0, 2, n)\n",
    "d = np.random.randint(0, 2, n)\n",
    "x = a + b + c + d\n",
    "for i in range(0, n):\n",
    "    if x[i] == 2:\n",
    "        k = k + 1\n",
    "print(k, n, k/n)"
   ]
  },
  {
   "cell_type": "markdown",
   "metadata": {},
   "source": [
    "4.3.2 Повторите расчеты, взяв другие значения n и k."
   ]
  },
  {
   "cell_type": "code",
   "execution_count": 7,
   "metadata": {},
   "outputs": [
    {
     "name": "stdout",
     "output_type": "stream",
     "text": [
      "истинная вероятность 0.234375\n",
      "2347 10000 0.2347\n"
     ]
    }
   ],
   "source": [
    "print('истинная вероятность', binomial(6, 4, 0.5))\n",
    "\n",
    "k, n = 0, 10000\n",
    "a = np.random.randint(0, 2, n)\n",
    "b = np.random.randint(0, 2, n)\n",
    "c = np.random.randint(0, 2, n)\n",
    "d = np.random.randint(0, 2, n)\n",
    "e = np.random.randint(0, 2, n)\n",
    "f = np.random.randint(0, 2, n)\n",
    "x = a + b + c + d + e + f\n",
    "for i in range(0, n):\n",
    "    if x[i] == 4:\n",
    "        k = k + 1\n",
    "print(k, n, k/n)"
   ]
  },
  {
   "cell_type": "markdown",
   "metadata": {},
   "source": [
    "4.4 Повторите расчеты, взяв другие значения n и k."
   ]
  },
  {
   "cell_type": "code",
   "execution_count": 8,
   "metadata": {},
   "outputs": [
    {
     "name": "stdout",
     "output_type": "stream",
     "text": [
      "000\n",
      "001\n",
      "001\n",
      "010\n",
      "011\n",
      "011\n",
      "010\n",
      "011\n",
      "011\n",
      "100\n",
      "101\n",
      "101\n",
      "110\n",
      "111\n",
      "111\n",
      "110\n",
      "111\n",
      "111\n",
      "100\n",
      "101\n",
      "101\n",
      "110\n",
      "111\n",
      "111\n",
      "110\n",
      "111\n",
      "111\n"
     ]
    }
   ],
   "source": [
    "for p in itertools.product(\"011\",repeat=3):\n",
    "    print(''.join(p))"
   ]
  },
  {
   "cell_type": "code",
   "execution_count": 9,
   "metadata": {},
   "outputs": [
    {
     "name": "stdout",
     "output_type": "stream",
     "text": [
      "654\n",
      "655\n",
      "645\n",
      "645\n",
      "655\n",
      "654\n",
      "564\n",
      "565\n",
      "546\n",
      "545\n",
      "556\n",
      "554\n",
      "465\n",
      "465\n",
      "456\n",
      "455\n",
      "456\n",
      "455\n",
      "565\n",
      "564\n",
      "556\n",
      "554\n",
      "546\n",
      "545\n"
     ]
    }
   ],
   "source": [
    "for p in itertools.permutations(\"6545\",3):\n",
    "    print(''.join(str(x) for x in p))"
   ]
  },
  {
   "cell_type": "code",
   "execution_count": 10,
   "metadata": {},
   "outputs": [
    {
     "name": "stdout",
     "output_type": "stream",
     "text": [
      "014\n",
      "013\n",
      "043\n",
      "143\n"
     ]
    }
   ],
   "source": [
    "for p in itertools.combinations(\"0143\",3):\n",
    "    print(''.join(p))"
   ]
  },
  {
   "cell_type": "code",
   "execution_count": 11,
   "metadata": {},
   "outputs": [
    {
     "name": "stdout",
     "output_type": "stream",
     "text": [
      "00\n",
      "04\n",
      "40\n",
      "44\n"
     ]
    }
   ],
   "source": [
    "for p in itertools.product(\"04\",repeat=2):\n",
    "    print(''.join(p))   "
   ]
  },
  {
   "cell_type": "code",
   "execution_count": 12,
   "metadata": {},
   "outputs": [
    {
     "name": "stdout",
     "output_type": "stream",
     "text": [
      "0.6668390831704795 0.16142775304263687\n",
      "0.6668390831704789 0.16142775304263726\n"
     ]
    },
    {
     "name": "stderr",
     "output_type": "stream",
     "text": [
      "C:\\Anaconda\\lib\\site-packages\\ipykernel_launcher.py:14: FutureWarning: `rcond` parameter will change to the default of machine precision times ``max(M, N)`` where M and N are the input matrix dimensions.\n",
      "To use the future default and silence this warning we advise to pass `rcond=None`, to keep using the old, explicitly pass `rcond=-1`.\n",
      "  \n"
     ]
    },
    {
     "data": {
      "image/png": "[encoded data removed]",
      "text/plain": [
       "<Figure size 432x288 with 1 Axes>"
      ]
     },
     "metadata": {
      "needs_background": "light"
     },
     "output_type": "display_data"
    }
   ],
   "source": [
    "n = 100\n",
    "r = 0.7\n",
    "x = np.random.rand(n)\n",
    "y = r*x + (1 - r)*np.random.rand(n)\n",
    "plt.plot(x, y, 'o')\n",
    "plt.xlabel('x')\n",
    "plt.ylabel('y')\n",
    "plt.grid(True)\n",
    "\n",
    "a = (np.sum(x)*np.sum(y) - n*np.sum(x*y))/(np.sum(x)*np.sum(x) - n*np.sum(x*x))\n",
    "b = (np.sum(y) - a*np.sum(x))/n\n",
    "\n",
    "A = np.vstack([x, np.ones(len(x))]).T\n",
    "a1, b1 = np.linalg.lstsq(A, y)[0]\n",
    "print(a, b)\n",
    "print(a1, b1)\n",
    "plt.plot([0, 1], [b, a + b])\n",
    "plt.show()"
   ]
  },
  {
   "cell_type": "markdown",
   "metadata": {},
   "source": [
    "4.5 Дополните код расчетом коэффициента корреляции x и y"
   ]
  },
  {
   "cell_type": "code",
   "execution_count": 13,
   "metadata": {},
   "outputs": [
    {
     "name": "stdout",
     "output_type": "stream",
     "text": [
      "0.9234983582410929\n"
     ]
    }
   ],
   "source": [
    "R = ((x - x.mean()) * (y - y.mean())).sum() / np.sqrt((((x - x.mean())**2).sum() * ((y - y.mean())**2).sum()))\n",
    "print(R)"
   ]
  },
  {
   "cell_type": "markdown",
   "metadata": {},
   "source": [
    "Мачта освещения футбольного стадиона содержит полотно из 20 рядов по 50 ламп, т.е. всего 1000 ламп.\n",
    "Вероятность \"перегорания\" каждой лампы Р = 0.001 (за 2 часа работы, пока идет матч)\n",
    "перед началом матча все лампы исправны, по нормативам игру можно проводить, должно работать не менее 90% ламп \n",
    "достаточна ли такая надежность ламп для проведения матча (т.е. требуется, чтобы до конца игры перегорело не более 100 ламп)?\n",
    "\n",
    "\n",
    "Усложнения:\n",
    "- Какие лампы (с каким максимальным параметром Р) необходимо купить, чтобы можно было проводить подряд несколько игр на протяжении 10 часов без выключения мачт?\n",
    "- Как изменятся ответы, если есть еще вероятность перегрева и отказа проводки к каждому из ряду ламп Р20=10е-5? (т.е. одновременного отказа 20 лемп сразу)\n",
    "Примечание: задача из реальной жизни; возможно, она недоформулирована, если так - надо додумать самому\n"
   ]
  },
  {
   "cell_type": "markdown",
   "metadata": {},
   "source": [
    "Будем считать, что если из N независимо проведенных матчей не более 2% не состоятся, то лампы достаточно надежны"
   ]
  },
  {
   "cell_type": "code",
   "execution_count": 14,
   "metadata": {},
   "outputs": [],
   "source": [
    "n = 20 # количество рядов\n",
    "m = 50 # количество лампочек в ряду\n",
    "p = 0.001 # вероятность выхода из строя одной лампочки\n",
    "total = n * m # всего лампочек\n",
    "\n",
    "\n",
    "# находим вероятность того, что из строя за 2 часа работы выйдут 100 лампочек и матч не состоится\n",
    "p_100 = 1\n",
    "\n",
    "for i in range(100):\n",
    "    p_100 *= p * (total - i)"
   ]
  },
  {
   "cell_type": "code",
   "execution_count": 15,
   "metadata": {},
   "outputs": [],
   "source": [
    "def check_match(n, p):\n",
    "    '''Функция возвращает, сколько матчей не стостоится из n матчей при p вероятности'''\n",
    "    result = []\n",
    "\n",
    "    for i in range(n):\n",
    "        x = random.uniform(0, 1000)\n",
    "        if x < p * 1000:           \n",
    "            result.append(1)\n",
    "        else:\n",
    "            result.append(0)\n",
    "\n",
    "    return sum(result)"
   ]
  },
  {
   "cell_type": "code",
   "execution_count": 16,
   "metadata": {},
   "outputs": [],
   "source": [
    "def monte_carlo(N, C, p):\n",
    "    '''функция  возвращает количество неудачных результатов\n",
    "        при N испытаний по C матчей при p вероятности'''\n",
    "    N = range(N)\n",
    "    fails = []\n",
    "\n",
    "    for _ in N:    \n",
    "        fails.append(check_match(C, p))\n",
    "    \n",
    "    return N, fails"
   ]
  },
  {
   "cell_type": "code",
   "execution_count": 17,
   "metadata": {},
   "outputs": [
    {
     "data": {
      "image/png": "[encoded data removed]",
      "text/plain": [
       "<Figure size 432x288 with 1 Axes>"
      ]
     },
     "metadata": {
      "needs_background": "light"
     },
     "output_type": "display_data"
    }
   ],
   "source": [
    "N, fails = monte_carlo(1000, 1000, p_100)\n",
    "\n",
    "plt.plot(N, fails)\n",
    "plt.xlabel('N')\n",
    "plt.ylabel('fail_count')\n",
    "plt.grid(True)"
   ]
  },
  {
   "cell_type": "markdown",
   "metadata": {},
   "source": [
    "Среди тысячи проведенных независимых испытаний  по 1000 матчей в каждом, на графике видно, что максимальное количество не состоявшихся матчей составляет 14 из 1000, что меньше 2% от количества проведенных матчей. Следовательно, ламы с вероятностью выхода из строя 0.001 достаточно надежны для проведения 2-х часового матча"
   ]
  },
  {
   "cell_type": "code",
   "execution_count": 18,
   "metadata": {},
   "outputs": [
    {
     "data": {
      "text/plain": [
       "3.093296860369112e-06"
      ]
     },
     "execution_count": 18,
     "metadata": {},
     "output_type": "execute_result"
    }
   ],
   "source": [
    "# Найдем вероятность 20 сорванных матчей из 1000, используя биномиальное распределение\n",
    "l = 1000\n",
    "k = 20\n",
    "C = math.factorial(l)/(math.factorial(l - k) * math.factorial(k))\n",
    "value = C * p_100**k * (1 - p_100)**(l - k)\n",
    "value"
   ]
  },
  {
   "cell_type": "markdown",
   "metadata": {},
   "source": [
    "вероятность того, что будет сорван  2% матчей  близка к 0"
   ]
  },
  {
   "cell_type": "markdown",
   "metadata": {},
   "source": [
    "#### Усложнение 1\n",
    "Какие лампы (с каким максимальным параметром Р) необходимо купить, чтобы можно было проводить подряд несколько игр на протяжении 10 часов без выключения мачт?"
   ]
  },
  {
   "cell_type": "code",
   "execution_count": 19,
   "metadata": {},
   "outputs": [],
   "source": [
    "p_100_10 = p_100 * 5 #вероятность выхода из строя 100 ламп при 10 часовом матче\n",
    "density_p = np.linspace(0, p_100_10, 1000) # строим плотность вероятностей до текущего значения\n",
    "fails = [] # сюда записываем количество сорванных матчей при проведении 1000 матчей в зависимости от вероятности p\n",
    "\n",
    "for p in density_p:\n",
    "    N, count = monte_carlo(100, 1000, p)\n",
    "    avg = sum(count) / len(count) \n",
    "    fails.append(avg)\n",
    "\n"
   ]
  },
  {
   "cell_type": "code",
   "execution_count": 20,
   "metadata": {},
   "outputs": [
    {
     "data": {
      "image/png": "[encoded data removed]",
      "text/plain": [
       "<Figure size 432x288 with 1 Axes>"
      ]
     },
     "metadata": {
      "needs_background": "light"
     },
     "output_type": "display_data"
    }
   ],
   "source": [
    "# построим график зависимости количества несостоявшихся 10 часовых матчей из 1000 в зависимости от вероятности\n",
    "plt.plot(fails, density_p)\n",
    "plt.xlabel('fail_count')\n",
    "plt.ylabel('density_p')\n",
    "plt.grid(True)"
   ]
  },
  {
   "cell_type": "markdown",
   "metadata": {},
   "source": [
    "На графике видно, что при уровне надежности 20 сорванных 10 часовых матчей из 1000  макисмальная вероятность p примерно равна 0.018"
   ]
  },
  {
   "cell_type": "code",
   "execution_count": 21,
   "metadata": {},
   "outputs": [],
   "source": [
    "true_p = 0.018 / 5 # вероятность того, что выйдут 100 ламп в 2-х часовом матче"
   ]
  }
 ],
 "metadata": {
  "kernelspec": {
   "display_name": "Python 3",
   "language": "python",
   "name": "python3"
  },
  "language_info": {
   "codemirror_mode": {
    "name": "ipython",
    "version": 3
   },
   "file_extension": ".py",
   "mimetype": "text/x-python",
   "name": "python",
   "nbconvert_exporter": "python",
   "pygments_lexer": "ipython3",
   "version": "3.7.3"
  }
 },
 "nbformat": 4,
 "nbformat_minor": 2
}
