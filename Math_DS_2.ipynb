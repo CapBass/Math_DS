{
 "cells": [
  {
   "cell_type": "code",
   "execution_count": 1,
   "metadata": {},
   "outputs": [],
   "source": [
    "import numpy as np\n",
    "import random\n",
    "import matplotlib.pyplot as plt\n",
    "import itertools\n",
    "import math\n",
    "\n",
    "%matplotlib inline"
   ]
  },
  {
   "cell_type": "markdown",
   "metadata": {},
   "source": [
    "4.1 Напишите код, моделирующий выпадение поля в рулетке (с учетом поля зеро)."
   ]
  },
  {
   "cell_type": "code",
   "execution_count": 2,
   "metadata": {},
   "outputs": [
    {
     "name": "stdout",
     "output_type": "stream",
     "text": [
      "выпало 22\n",
      "выпало 24\n",
      "выпало 25\n",
      "выпало 2\n",
      "выпало 20\n",
      "выпало 29\n",
      "выпало 26\n",
      "выпало 21\n",
      "выпало 0\n",
      "выпало 1\n"
     ]
    }
   ],
   "source": [
    "N = 10\n",
    "\n",
    "for i in range(N):\n",
    "    x = random.randint(0, 36)\n",
    "    print(f'выпало {x}')"
   ]
  },
  {
   "cell_type": "markdown",
   "metadata": {},
   "source": [
    "4.2.1 Напишите код, проверяющий любую из теорем сложения или умножения вероятности на примере подбрасывания монетки"
   ]
  },
  {
   "cell_type": "code",
   "execution_count": 3,
   "metadata": {},
   "outputs": [
    {
     "name": "stdout",
     "output_type": "stream",
     "text": [
      "выпало орлов 53, выпало решек 47\n",
      "Сумма вероятностей всех событий дает единицу, 53 + 47 = 100,\n",
      "100 / 100 = 1\n"
     ]
    }
   ],
   "source": [
    "t, l = 0, 0\n",
    "N = 100\n",
    "\n",
    "for i in range(N):\n",
    "    x = random.randint(1, 10)\n",
    "    if x <= 5:\n",
    "        t += 1\n",
    "    else:\n",
    "        l += 1\n",
    "        \n",
    "print(f'выпало орлов {t}, выпало решек {l}')\n",
    "print(f'Сумма вероятностей всех событий дает единицу, {t} + {l} = {t + l},\\n'\n",
    "      f'{t + l} / {N} = 1')\n"
   ]
  },
  {
   "cell_type": "markdown",
   "metadata": {},
   "source": [
    "4.2.2 На конфетной фабрике собирают подарки к Новому Году из n=10 видов конфет. Берут примерно по M=100 г конфет каждого вида (но точно не получается, а выходит плюс-минус m, напр. 95...105 г). Т.е. выйдет вес всего подарка 1 кг плюс-минус накопленная погрешность. Всего собирают N=10000 подарков. Надо построить гистограмму распределения веса подарка. Ну и при желании- поиграться с параметрами N,n,M,m."
   ]
  },
  {
   "cell_type": "code",
   "execution_count": 4,
   "metadata": {},
   "outputs": [
    {
     "data": {
      "image/png": "[encoded data removed]",
      "text/plain": [
       "<Figure size 432x288 with 1 Axes>"
      ]
     },
     "metadata": {},
     "output_type": "display_data"
    }
   ],
   "source": [
    "random_sum = []\n",
    "N = 10000\n",
    "n = 10\n",
    "M = 100\n",
    "m = 5\n",
    "for i in range(N):\n",
    "    sum_ = 0\n",
    "    for j in range(n):\n",
    "        x = random.randint(M - m, M + m)        \n",
    "        sum_ += x\n",
    "    random_sum.append(sum_)\n",
    "        \n",
    "plt.hist(random_sum, bins=20);"
   ]
  },
  {
   "cell_type": "markdown",
   "metadata": {},
   "source": [
    "4.3.1 Дополните код Монте-Карло последовательности независимых испытаний расчетом соответствующих вероятностей (через биномиальное распределение) \n",
    "и сравните результаты."
   ]
  },
  {
   "cell_type": "code",
   "execution_count": 5,
   "metadata": {},
   "outputs": [],
   "source": [
    "def binomial(n, k, p):    \n",
    "    C = math.factorial(n)/(math.factorial(n - k) * math.factorial(k))\n",
    "    value = C * p**k * (1 - p)**(n - k)\n",
    "    return value"
   ]
  },
  {
   "cell_type": "code",
   "execution_count": 6,
   "metadata": {},
   "outputs": [
    {
     "name": "stdout",
     "output_type": "stream",
     "text": [
      "истинная вероятность 0.375\n",
      "3706 10000 0.3706\n"
     ]
    }
   ],
   "source": [
    "print('истинная вероятность', binomial(4, 2, 0.5))\n",
    "\n",
    "k, n = 0, 10000\n",
    "a = np.random.randint(0, 2, n)\n",
    "b = np.random.randint(0, 2, n)\n",
    "c = np.random.randint(0, 2, n)\n",
    "d = np.random.randint(0, 2, n)\n",
    "x = a + b + c + d\n",
    "for i in range(0, n):\n",
    "    if x[i] == 2:\n",
    "        k = k + 1\n",
    "print(k, n, k/n)"
   ]
  },
  {
   "cell_type": "markdown",
   "metadata": {},
   "source": [
    "4.3.2 Повторите расчеты, взяв другие значения n и k."
   ]
  },
  {
   "cell_type": "code",
   "execution_count": 7,
   "metadata": {},
   "outputs": [
    {
     "name": "stdout",
     "output_type": "stream",
     "text": [
      "истинная вероятность 0.234375\n",
      "2305 10000 0.2305\n"
     ]
    }
   ],
   "source": [
    "print('истинная вероятность', binomial(6, 4, 0.5))\n",
    "\n",
    "k, n = 0, 10000\n",
    "a = np.random.randint(0, 2, n)\n",
    "b = np.random.randint(0, 2, n)\n",
    "c = np.random.randint(0, 2, n)\n",
    "d = np.random.randint(0, 2, n)\n",
    "e = np.random.randint(0, 2, n)\n",
    "f = np.random.randint(0, 2, n)\n",
    "x = a + b + c + d + e + f\n",
    "for i in range(0, n):\n",
    "    if x[i] == 4:\n",
    "        k = k + 1\n",
    "print(k, n, k/n)"
   ]
  },
  {
   "cell_type": "markdown",
   "metadata": {},
   "source": [
    "4.4 Повторите расчеты, взяв другие значения n и k."
   ]
  },
  {
   "cell_type": "code",
   "execution_count": 8,
   "metadata": {},
   "outputs": [
    {
     "name": "stdout",
     "output_type": "stream",
     "text": [
      "000\n",
      "001\n",
      "001\n",
      "010\n",
      "011\n",
      "011\n",
      "010\n",
      "011\n",
      "011\n",
      "100\n",
      "101\n",
      "101\n",
      "110\n",
      "111\n",
      "111\n",
      "110\n",
      "111\n",
      "111\n",
      "100\n",
      "101\n",
      "101\n",
      "110\n",
      "111\n",
      "111\n",
      "110\n",
      "111\n",
      "111\n"
     ]
    }
   ],
   "source": [
    "for p in itertools.product(\"011\",repeat=3):\n",
    "    print(''.join(p))"
   ]
  },
  {
   "cell_type": "code",
   "execution_count": 9,
   "metadata": {},
   "outputs": [
    {
     "name": "stdout",
     "output_type": "stream",
     "text": [
      "654\n",
      "655\n",
      "645\n",
      "645\n",
      "655\n",
      "654\n",
      "564\n",
      "565\n",
      "546\n",
      "545\n",
      "556\n",
      "554\n",
      "465\n",
      "465\n",
      "456\n",
      "455\n",
      "456\n",
      "455\n",
      "565\n",
      "564\n",
      "556\n",
      "554\n",
      "546\n",
      "545\n"
     ]
    }
   ],
   "source": [
    "for p in itertools.permutations(\"6545\",3):\n",
    "    print(''.join(str(x) for x in p))"
   ]
  },
  {
   "cell_type": "code",
   "execution_count": 10,
   "metadata": {},
   "outputs": [
    {
     "name": "stdout",
     "output_type": "stream",
     "text": [
      "014\n",
      "013\n",
      "043\n",
      "143\n"
     ]
    }
   ],
   "source": [
    "for p in itertools.combinations(\"0143\",3):\n",
    "    print(''.join(p))"
   ]
  },
  {
   "cell_type": "code",
   "execution_count": 11,
   "metadata": {},
   "outputs": [
    {
     "name": "stdout",
     "output_type": "stream",
     "text": [
      "00\n",
      "04\n",
      "40\n",
      "44\n"
     ]
    }
   ],
   "source": [
    "for p in itertools.product(\"04\",repeat=2):\n",
    "    print(''.join(p))   "
   ]
  },
  {
   "cell_type": "code",
   "execution_count": 12,
   "metadata": {},
   "outputs": [
    {
     "name": "stdout",
     "output_type": "stream",
     "text": [
      "0.6799344885384564 0.16186383755425587\n",
      "0.6799344885384571 0.16186383755425554\n"
     ]
    },
    {
     "name": "stderr",
     "output_type": "stream",
     "text": [
      "C:\\Users\\chigrai_au\\AppData\\Local\\Continuum\\anaconda3\\lib\\site-packages\\ipykernel_launcher.py:14: FutureWarning: `rcond` parameter will change to the default of machine precision times ``max(M, N)`` where M and N are the input matrix dimensions.\n",
      "To use the future default and silence this warning we advise to pass `rcond=None`, to keep using the old, explicitly pass `rcond=-1`.\n",
      "  \n"
     ]
    },
    {
     "data": {
      "image/png": "[encoded data removed]",
      "text/plain": [
       "<Figure size 432x288 with 1 Axes>"
      ]
     },
     "metadata": {},
     "output_type": "display_data"
    }
   ],
   "source": [
    "n = 100\n",
    "r = 0.7\n",
    "x = np.random.rand(n)\n",
    "y = r*x + (1 - r)*np.random.rand(n)\n",
    "plt.plot(x, y, 'o')\n",
    "plt.xlabel('x')\n",
    "plt.ylabel('y')\n",
    "plt.grid(True)\n",
    "\n",
    "a = (np.sum(x)*np.sum(y) - n*np.sum(x*y))/(np.sum(x)*np.sum(x) - n*np.sum(x*x))\n",
    "b = (np.sum(y) - a*np.sum(x))/n\n",
    "\n",
    "A = np.vstack([x, np.ones(len(x))]).T\n",
    "a1, b1 = np.linalg.lstsq(A, y)[0]\n",
    "print(a, b)\n",
    "print(a1, b1)\n",
    "plt.plot([0, 1], [b, a + b])\n",
    "plt.show()"
   ]
  },
  {
   "cell_type": "markdown",
   "metadata": {},
   "source": [
    "4.5 Дополните код расчетом коэффициента корреляции x и y"
   ]
  },
  {
   "cell_type": "code",
   "execution_count": 13,
   "metadata": {},
   "outputs": [
    {
     "name": "stdout",
     "output_type": "stream",
     "text": [
      "0.9163958691905719\n"
     ]
    }
   ],
   "source": [
    "R = ((x - x.mean()) * (y - y.mean())).sum() / np.sqrt((((x - x.mean())**2).sum() * ((y - y.mean())**2).sum()))\n",
    "print(R)"
   ]
  },
  {
   "cell_type": "markdown",
   "metadata": {},
   "source": [
    "Мачта освещения футбольного стадиона содержит полотно из 20 рядов по 50 ламп, т.е. всего 1000 ламп.\n",
    "Вероятность \"перегорания\" каждой лампы Р = 0.001 (за 2 часа работы, пока идет матч)\n",
    "перед началом матча все лампы исправны, по нормативам игру можно проводить, должно работать не менее 90% ламп \n",
    "достаточна ли такая надежность ламп для проведения матча (т.е. требуется, чтобы до конца игры перегорело не более 100 ламп)?\n",
    "\n",
    "\n",
    "Усложнения:\n",
    "- Какие лампы (с каким максимальным параметром Р) необходимо купить, чтобы можно было проводить подряд несколько игр на протяжении 10 часов без выключения мачт?\n",
    "- Как изменятся ответы, если есть еще вероятность перегрева и отказа проводки к каждому из ряду ламп Р20=10е-5? (т.е. одновременного отказа 20 лемп сразу)\n",
    "Примечание: задача из реальной жизни; возможно, она недоформулирована, если так - надо додумать самому\n"
   ]
  },
  {
   "cell_type": "code",
   "execution_count": 14,
   "metadata": {},
   "outputs": [],
   "source": [
    "def binomial(n, k, p):\n",
    "    \"\"\"Функция возвращает вероятность из биномиального распределения\"\"\"\n",
    "    C = math.factorial(n)/(math.factorial(n - k) * math.factorial(k))\n",
    "    value = C * p**k * (1 - p)**(n - k)\n",
    "    return value"
   ]
  },
  {
   "cell_type": "code",
   "execution_count": 15,
   "metadata": {},
   "outputs": [],
   "source": [
    "def get_prob(n, k, p):\n",
    "    \"\"\"Функция возвращает вероятность сгорания k ламп из n\"\"\"\n",
    "    p_k = 0\n",
    "\n",
    "    for i in range(k):\n",
    "        p_k += binomial(n, i, p)\n",
    "    \n",
    "    p_k = 1 - p_k\n",
    "    return p_k"
   ]
  },
  {
   "cell_type": "code",
   "execution_count": 16,
   "metadata": {},
   "outputs": [
    {
     "data": {
      "text/plain": [
       "7.771561172376096e-16"
      ]
     },
     "execution_count": 16,
     "metadata": {},
     "output_type": "execute_result"
    }
   ],
   "source": [
    "p = 0.001 # вероятность выхода из строя одной лампочки\n",
    "n = 1000 # всего лампочек\n",
    "k = 100 # максимальное количество лампочек, которрые могут сгореть\n",
    "\n",
    "# находим вероятность того, что из строя за 2 часа работы выйдут 100 лампочек и матч не состоится\n",
    "p_100 = get_prob(n, k, p)\n",
    "p_100"
   ]
  },
  {
   "cell_type": "markdown",
   "metadata": {},
   "source": [
    "Вероятногсть близка к 0, поэтому надежность в 0,001 достаточна для проведения матча"
   ]
  },
  {
   "cell_type": "markdown",
   "metadata": {},
   "source": [
    "#### Усложнение 1\n",
    "Какие лампы (с каким максимальным параметром Р) необходимо купить, чтобы можно было проводить подряд несколько игр на протяжении 10 часов без выключения мачт?"
   ]
  },
  {
   "cell_type": "markdown",
   "metadata": {},
   "source": [
    "Примем, что не более 2% сорванных 10 часовых матчей - достаточный уровень"
   ]
  },
  {
   "cell_type": "code",
   "execution_count": 17,
   "metadata": {},
   "outputs": [
    {
     "data": {
      "image/png": "[encoded data removed]",
      "text/plain": [
       "<Figure size 432x288 with 1 Axes>"
      ]
     },
     "metadata": {},
     "output_type": "display_data"
    }
   ],
   "source": [
    "density_p = np.linspace(0, 0.1, 100) # строим плотность вероятностей\n",
    "density_y = get_prob(n, k, density_p)\n",
    "\n",
    "plt.plot(density_p, density_y)\n",
    "plt.xlabel('density_p')\n",
    "plt.ylabel('density_y')\n",
    "plt.axhline(y=0.02, color='red')\n",
    "plt.grid(True)"
   ]
  },
  {
   "cell_type": "markdown",
   "metadata": {},
   "source": [
    "При уровне надежности p = 0.02 достаточная вероятность сгорания одной лампочки примерно равна 0.083"
   ]
  },
  {
   "cell_type": "code",
   "execution_count": null,
   "metadata": {},
   "outputs": [],
   "source": []
  }
 ],
 "metadata": {
  "kernelspec": {
   "display_name": "Python 3",
   "language": "python",
   "name": "python3"
  },
  "language_info": {
   "codemirror_mode": {
    "name": "ipython",
    "version": 3
   },
   "file_extension": ".py",
   "mimetype": "text/x-python",
   "name": "python",
   "nbconvert_exporter": "python",
   "pygments_lexer": "ipython3",
   "version": "3.6.5"
  }
 },
 "nbformat": 4,
 "nbformat_minor": 2
}
