{
 "cells": [
  {
   "cell_type": "markdown",
   "metadata": {},
   "source": [
    "$ f_1(x)=e^x,f_2(x)=1,f_3(x)=x+1,f_4(x)=x−e^x. $"
   ]
  },
  {
   "cell_type": "markdown",
   "metadata": {},
   "source": [
    "$ f_4(x) = f_3(x) + (-f_2(x)) + (-f_1(x))$\n",
    "\n",
    "$ x - e^x = x + 1 - 1 - e^x = x - e^x $"
   ]
  },
  {
   "cell_type": "markdown",
   "metadata": {},
   "source": [
    "Так как $f_4$ можно выразить через остальные функции, то $f_1, f_2, f_3, f_4 $ являются линейно зависимыми"
   ]
  },
  {
   "cell_type": "markdown",
   "metadata": {},
   "source": []
  },
  {
   "cell_type": "markdown",
   "metadata": {},
   "source": [
    "$ f_1(x)=2,f_2(x)=x,f_3(x)=x^2,f_4(x)=(x+1)^2 $"
   ]
  },
  {
   "cell_type": "markdown",
   "metadata": {},
   "source": [
    "$ f_4(x) = f_3(x) + 2f_2(x) + 0.5(f_1(x)) $\n",
    "\n",
    "$ x^2 + 2x + 1 = x^2 + 2x + 0.5 \\cdot 2$"
   ]
  },
  {
   "cell_type": "markdown",
   "metadata": {},
   "source": [
    "Так как $f_4$ можно выразить через остальные функции, то $f_1, f_2, f_3, f_4 $ являются линейно зависимыми"
   ]
  },
  {
   "cell_type": "markdown",
   "metadata": {},
   "source": [
    "__3.__ Найти координаты вектора $x = (2, 3, 5)\\in \\mathbb{R}^{3}$ в базисе $b_{1}=(0, 0, 10)$, $b_{2}=(2, 0, 0)$, $b_{3}=(0, 1, 0)$."
   ]
  },
  {
   "cell_type": "markdown",
   "metadata": {},
   "source": [
    "$x = (2, 3, 5) = a_1 \\cdot (0, 0, 10) + a_2 \\cdot (2, 0, 0) + a_3 \\cdot (0, 1, 0) = (a_10, a_10, a_110) + (a_22, a_20, a_20) + (a_30, a_31, a_30) = (0a_1 + 2a_2 + 0a_3, 0a_1 + 0a_2 + 1a_3, 10a_1 + 0a_2 + 0a_3) $"
   ]
  },
  {
   "cell_type": "markdown",
   "metadata": {},
   "source": [
    "\\begin{equation*}\n",
    " \\begin{cases}\n",
    "   0a_1 + 2a_2 + 0a_3 = 2, \n",
    "   \\\\\n",
    "   0a_1 + 0a_2 + 1a_3 = 3,\n",
    "   \\\\\n",
    "   10a_1 + 0a_2 + 0a_3 = 5.\n",
    " \\end{cases}\n",
    "\\end{equation*}"
   ]
  },
  {
   "cell_type": "markdown",
   "metadata": {},
   "source": [
    "\\begin{equation*}\n",
    " \\begin{cases}\n",
    "   2a_2 = 2\n",
    "   \\\\\n",
    "   1a_3 = 3\n",
    "   \\\\\n",
    "   10a_1 = 5\n",
    " \\end{cases}\n",
    "  \\begin{cases}\n",
    "   a_2 = 1\n",
    "   \\\\\n",
    "   a_3 = 3\n",
    "   \\\\\n",
    "   a_1 = 0.5\n",
    " \\end{cases}\n",
    "\\end{equation*}"
   ]
  },
  {
   "cell_type": "markdown",
   "metadata": {},
   "source": [
    "$ x = 0.5e_1 + e_2 + 3e_3 $"
   ]
  },
  {
   "cell_type": "markdown",
   "metadata": {},
   "source": [
    "__4.__ Найти координаты вектора $3x^{2}-2x+2\\in\\mathbb{R}^{3}[x]$:\n",
    "\n",
    "   а) в базисе $1$, $x$, $x^{2}$;\n",
    "\n",
    "   б) в базисе $x^{2}$, $x-1$, $1$."
   ]
  },
  {
   "cell_type": "markdown",
   "metadata": {},
   "source": [
    "a) e_1 = 1, e_2 = x, e_3 = x^2\n",
    "\n",
    "$ 3x^2 - 2x + 2 = 2 \\cdot 1 - 2 \\cdot x + 3 \\cdot x^2 = 2e_1 - 2e_2 + 3e_3 $\n",
    "\n",
    "Координаты вектора $3x^{2}-2x+2 $ в базисе $1$, $x$, $x^{2}$ (2, -2, 3)"
   ]
  },
  {
   "cell_type": "markdown",
   "metadata": {},
   "source": [
    "б) e_1 = x^2, e_2 = x - 1, e_3 = 1\n",
    "\n",
    "$ 3x^2 - 2x + 2 = 3x^2 - 2 \\cdot (x - 1) + 0 \\cdot 1 = 3e_1 - 2e_2 + 0e_3 $\n",
    "\n",
    "Координаты вектора $3x^{2}-2x+2 $ в базисе $x^2$, $x-1$, $1$ (3, -2, 0)"
   ]
  },
  {
   "cell_type": "code",
   "execution_count": null,
   "metadata": {},
   "outputs": [],
   "source": []
  }
 ],
 "metadata": {
  "kernelspec": {
   "display_name": "Python 3",
   "language": "python",
   "name": "python3"
  },
  "language_info": {
   "codemirror_mode": {
    "name": "ipython",
    "version": 3
   },
   "file_extension": ".py",
   "mimetype": "text/x-python",
   "name": "python",
   "nbconvert_exporter": "python",
   "pygments_lexer": "ipython3",
   "version": "3.6.5"
  }
 },
 "nbformat": 4,
 "nbformat_minor": 2
}
