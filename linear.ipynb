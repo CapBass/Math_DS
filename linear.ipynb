{
 "cells": [
  {
   "cell_type": "code",
   "execution_count": 1,
   "metadata": {},
   "outputs": [],
   "source": [
    "import numpy as np"
   ]
  },
  {
   "cell_type": "markdown",
   "metadata": {},
   "source": [
    "$ f_1(x)=e^x,f_2(x)=1,f_3(x)=x+1,f_4(x)=x−e^x. $"
   ]
  },
  {
   "cell_type": "markdown",
   "metadata": {},
   "source": [
    "$ f_4(x) = f_3(x) + (-f_2(x)) + (-f_1(x))$\n",
    "\n",
    "$ x - e^x = x + 1 - 1 - e^x = x - e^x $"
   ]
  },
  {
   "cell_type": "markdown",
   "metadata": {},
   "source": [
    "Так как $f_4$ можно выразить через остальные функции, то $f_1, f_2, f_3, f_4 $ являются линейно зависимыми"
   ]
  },
  {
   "cell_type": "markdown",
   "metadata": {},
   "source": []
  },
  {
   "cell_type": "markdown",
   "metadata": {},
   "source": [
    "$ f_1(x)=2,f_2(x)=x,f_3(x)=x^2,f_4(x)=(x+1)^2 $"
   ]
  },
  {
   "cell_type": "markdown",
   "metadata": {},
   "source": [
    "$ f_4(x) = f_3(x) + 2f_2(x) + 0.5(f_1(x)) $\n",
    "\n",
    "$ x^2 + 2x + 1 = x^2 + 2x + 0.5 \\cdot 2$"
   ]
  },
  {
   "cell_type": "markdown",
   "metadata": {},
   "source": [
    "Так как $f_4$ можно выразить через остальные функции, то $f_1, f_2, f_3, f_4 $ являются линейно зависимыми"
   ]
  },
  {
   "cell_type": "markdown",
   "metadata": {},
   "source": [
    "__3.__ Найти координаты вектора $x = (2, 3, 5)\\in \\mathbb{R}^{3}$ в базисе $b_{1}=(0, 0, 10)$, $b_{2}=(2, 0, 0)$, $b_{3}=(0, 1, 0)$."
   ]
  },
  {
   "cell_type": "markdown",
   "metadata": {},
   "source": [
    "$x = (2, 3, 5) = a_1 \\cdot (0, 0, 10) + a_2 \\cdot (2, 0, 0) + a_3 \\cdot (0, 1, 0) = (a_10, a_10, a_110) + (a_22, a_20, a_20) + (a_30, a_31, a_30) = (0a_1 + 2a_2 + 0a_3, 0a_1 + 0a_2 + 1a_3, 10a_1 + 0a_2 + 0a_3) $"
   ]
  },
  {
   "cell_type": "markdown",
   "metadata": {},
   "source": [
    "\\begin{equation*}\n",
    " \\begin{cases}\n",
    "   0a_1 + 2a_2 + 0a_3 = 2, \n",
    "   \\\\\n",
    "   0a_1 + 0a_2 + 1a_3 = 3,\n",
    "   \\\\\n",
    "   10a_1 + 0a_2 + 0a_3 = 5.\n",
    " \\end{cases}\n",
    "\\end{equation*}"
   ]
  },
  {
   "cell_type": "markdown",
   "metadata": {},
   "source": [
    "\\begin{equation*}\n",
    " \\begin{cases}\n",
    "   2a_2 = 2\n",
    "   \\\\\n",
    "   1a_3 = 3\n",
    "   \\\\\n",
    "   10a_1 = 5\n",
    " \\end{cases}\n",
    "  \\begin{cases}\n",
    "   a_2 = 1\n",
    "   \\\\\n",
    "   a_3 = 3\n",
    "   \\\\\n",
    "   a_1 = 0.5\n",
    " \\end{cases}\n",
    "\\end{equation*}"
   ]
  },
  {
   "cell_type": "markdown",
   "metadata": {},
   "source": [
    "$ x = 0.5e_1 + e_2 + 3e_3 $"
   ]
  },
  {
   "cell_type": "markdown",
   "metadata": {},
   "source": [
    "__4.__ Найти координаты вектора $3x^{2}-2x+2\\in\\mathbb{R}^{3}[x]$:\n",
    "\n",
    "   а) в базисе $1$, $x$, $x^{2}$;\n",
    "\n",
    "   б) в базисе $x^{2}$, $x-1$, $1$."
   ]
  },
  {
   "cell_type": "markdown",
   "metadata": {},
   "source": [
    "a) $ e_1 = 1, e_2 = x, e_3 = x^2 $\n",
    "\n",
    "$ 3x^2 - 2x + 2 = 2 \\cdot 1 - 2 \\cdot x + 3 \\cdot x^2 = 2e_1 - 2e_2 + 3e_3 $\n",
    "\n",
    "Координаты вектора $3x^{2}-2x+2 $ в базисе $1$, $x$, $x^{2}$ (2, -2, 3)"
   ]
  },
  {
   "cell_type": "markdown",
   "metadata": {},
   "source": [
    "б) $ e_1 = x^2, e_2 = x - 1, e_3 = 1 $\n",
    "\n",
    "$ 3x^2 - 2x + 2 = 3x^2 - 2 \\cdot (x - 1) + 0 \\cdot 1 = 3e_1 - 2e_2 + 0e_3 $\n",
    "\n",
    "Координаты вектора $3x^{2}-2x+2 $ в базисе $x^2$, $x-1$, $1$ (3, -2, 0)"
   ]
  },
  {
   "cell_type": "markdown",
   "metadata": {},
   "source": [
    "__5.__ Установить, является ли линейным подпространством:\n",
    "\n",
    "а) совокупность всех векторов трехмерного пространства, у которых по крайней мере одна из первых двух координат равна нулю;\n",
    "    \n",
    "б) все векторы, являющиеся линейными комбинациями данных векторов $\\{u_{1}, u_{2}, ..., u_{n}\\}$."
   ]
  },
  {
   "cell_type": "markdown",
   "metadata": {},
   "source": [
    "Рассмотри векторы  $ (0, a, b) $ и $ (c, 0 ,d) $\n",
    "\n",
    "$ (0, a, b) + (c, 0 ,d) = (0 + c, a + 0, b + d) = (c, a, b + d)$\n",
    "\n",
    "$ \\alpha(0, a, b) = (0, \\alpha a, \\alpha b)  $\n",
    "\n",
    "Сложение векторов (c, a, b + d) не соответствует множеству вектров, у которых хотя бды одна из первых координат равна 0, поэтому данное множество не является линейным подпространством"
   ]
  },
  {
   "cell_type": "markdown",
   "metadata": {},
   "source": [
    "возьмем векторы $ x = s_1u_1 + s_2u_2 + ... + s_nu_n \\in M $ и $ y = t_1u_1 + t_2u_2 + ... + t_nu_n \\in M $, где $s$ и $t$ какие-то числа, а $M$ - множество линейных комбинаций векторов $ u_1, u_2, ... , u_n$\n",
    "\n",
    "тогда сумма векторов $x + y = (s_1u_1 + s_2u_2 + ... + s_nu_n) + (y = t_1u_1 + t_2u_2 + ... + t_nu_n) = (s_1 + t_1)u_1 + (s_2 + t_2)u_2 + ... + (s_n + t_n)u_n \\in M $\n",
    "\n",
    "и умножение вектора на число $ a(s_1u_1 + s_2u_2 + ... + s_nu_n) = (as_1)u_1 + (as_2)u_2 + ... + (as_n)u_n \\in M $, следовательно линейные комбинации векторов множества M являются линейным подпространством пространства векторов $ u_1, u_2, ... , u_n$/"
   ]
  },
  {
   "cell_type": "code",
   "execution_count": null,
   "metadata": {},
   "outputs": [],
   "source": []
  },
  {
   "cell_type": "markdown",
   "metadata": {},
   "source": [
    "__1.__ Найти скалярное произведение векторов $x, y \\in \\mathbb{R}$:<br>\n",
    "а) $x=(0,-3, 6),~y=(-4, 7, 9);$<br>\n",
    "б) $x=(7, -4, 0, 1),~y=(-3, 1, 11, 2).$\n",
    "\n",
    "__2.__ Найти нормы векторов $(4, 2, 4)$ и $(12, 3, 4)$ и угол между ними.\n",
    "\n",
    "\n",
    "__3.__ Будет ли линейное пространство евклидовым, если за скалярное произведение принять:<br>\n",
    "а) произведение длин векторов;<br>\n",
    "б) утроенное обычное скалярное произведение векторов?\n",
    "   \n",
    "   \n",
    "__4.__ Какие из нижеперечисленных векторов образуют ортонормированный базис в линейном пространстве $\\mathbb{R}^{3}$:<br>\n",
    "а) $(1,0,0),(0,0,1);$ <br>\n",
    "б) $(1/\\sqrt{2},-1/\\sqrt{2},0),(1/\\sqrt{2},1/\\sqrt{2},0), (0,0,1);$<br>\n",
    "в) $(1/2, -1/2, 0), (0, 1/2, 1/2), (0,0,1);$<br>\n",
    "г) $(1,0,0),(0,1,0),(0,0,1)?$ "
   ]
  },
  {
   "cell_type": "markdown",
   "metadata": {},
   "source": [
    "а) $ <x, y> = 0 \\cdot (-4) + (-3) \\cdot 7 + 6 \\cdot 9 = 33 $ \n",
    "\n",
    "б) $ <x, y> = 7 \\cdot (-3) + (-4) \\cdot 1 + 0 \\cdot 11 + 1 \\cdot 2 = -23 $ "
   ]
  },
  {
   "cell_type": "markdown",
   "metadata": {},
   "source": [
    "$ x = (4, 2 , 4) $ и  $ y = (12, 3 ,4) $\n",
    "\n",
    "$ \\left \\|x\\right \\| = \\sqrt{4^2 + 2^2 + 4^2} = 6 $\n",
    "\n",
    "$ \\left \\|y\\right \\| = \\sqrt{12^2 + 3^2 + 4^2} = 13 $\n",
    "\n",
    "$ <x, y> = 4 \\cdot 12 + 2 \\cdot 3 + 4\\cdot 4 = 70 $ \n",
    "\n",
    "$ cos\\varphi = \\frac{<x,y>}{\\left \\|x\\right \\|\\cdot\\left \\|y\\right \\|} = \\frac{70}{6 * 13} \\approx 0.897 $"
   ]
  },
  {
   "cell_type": "code",
   "execution_count": 16,
   "metadata": {},
   "outputs": [
    {
     "data": {
      "text/plain": [
       "'угол между векторами x и y 0.46 градусов'"
      ]
     },
     "execution_count": 16,
     "metadata": {},
     "output_type": "execute_result"
    }
   ],
   "source": [
    "f'угол между векторами x и y {round(np.arccos(70 / 78), 2)} градусов'"
   ]
  },
  {
   "cell_type": "markdown",
   "metadata": {},
   "source": [
    "возьмем произвольные вектора x = (1, 2, 2) и y = (4, 4, 2)\n",
    "\n",
    "$ ||x|| = \\sqrt{1^2 + 2^2 + 2^2} = 3 $\n",
    "$ ||y|| = \\sqrt{4^2 + 4^2 + 2^2} = 6 $\n",
    "\n",
    "Проверим неравенство Коши - Буняковского\n",
    "\n",
    "$ <x, y> \\leq ||x|| \\cdot ||y||  $\n",
    "\n",
    "$ <x, y>  = 3 \\cdot 6 = 18  = ||x|| \\cdot ||y|| = 18 $\n",
    "\n",
    "Неравенство соблюдено, поэтому произведение длин векторов как скалярное произведение формируют евклидовое пространство"
   ]
  },
  {
   "cell_type": "markdown",
   "metadata": {},
   "source": [
    "утроенное обычное скалярное произведение векторов x и y\n",
    "\n",
    "$ <x, y> = 3(1 \\cdot 4 + 2 \\cdot 4 + 2 \\cdot 2) = 48 > 18 $\n",
    "\n",
    "$ <x , y> > ||x|| \\cdot ||y|| $\n",
    "\n",
    "неравенство Коши - Буняковского не выполняется, поэтому пространство утроенного обычного скалярного произведения нельзя считать евклидовым пространством"
   ]
  },
  {
   "cell_type": "markdown",
   "metadata": {},
   "source": [
    "$ <(1, 0, 0), (0, 0, 1)> = 1 \\cdot 0 + 0 \\cdot 0 + 0 \\cdot 1 = 0, <(1, 0, 0), (1, 0, 0)> = 1 + 0 + 0 = 1  $\n",
    "\n",
    "(1, 0, 0), (0, 0, 1) образуют ортонормированный базис"
   ]
  },
  {
   "cell_type": "code",
   "execution_count": 4,
   "metadata": {},
   "outputs": [
    {
     "name": "stdout",
     "output_type": "stream",
     "text": [
      "0.0 0.0 0.0\n",
      "0.9999999999999998 0.9999999999999998 1\n"
     ]
    }
   ],
   "source": [
    "a = np.array([1 / np.sqrt(2), -1 / np.sqrt(2), 0])\n",
    "b = np.array([1 / np.sqrt(2), 1 / np.sqrt(2), 0])\n",
    "c = np.array([0, 0, 1])\n",
    "print(np.dot(a, b), np.dot(b, c), np.dot(a, c))\n",
    "print(np.dot(a, a), np.dot(b, b), np.dot(c, c))"
   ]
  },
  {
   "cell_type": "markdown",
   "metadata": {},
   "source": [
    "$ (1 / \\sqrt{2}, -1 / \\sqrt{2}, 0), (1 / \\sqrt{2}, 1 / \\sqrt{2}, 0), (0, 0, 1) $ образуют ортонормированный базис"
   ]
  },
  {
   "cell_type": "code",
   "execution_count": 5,
   "metadata": {},
   "outputs": [
    {
     "name": "stdout",
     "output_type": "stream",
     "text": [
      "-0.25 0.5 0.0\n",
      "0.5 0.5 1\n"
     ]
    }
   ],
   "source": [
    "a = np.array([1 / 2, -1 / 2, 0])\n",
    "b = np.array([0, 1 / 2, 1 / 2])\n",
    "c = np.array([0, 0, 1])\n",
    "print(np.dot(a, b), np.dot(b, c), np.dot(a, c))\n",
    "print(np.dot(a, a), np.dot(b, b), np.dot(c, c))"
   ]
  },
  {
   "cell_type": "markdown",
   "metadata": {},
   "source": [
    "$ (1 / 2, -1 / 2, 0), (1 / 2, 1 / 2, 0), (0, 0, 1) $ не образуют ортонормированный базис, так как скалярные произведения не равны 0 и скалярные произведения векторов сами х на себя не равны 1"
   ]
  },
  {
   "cell_type": "code",
   "execution_count": 6,
   "metadata": {},
   "outputs": [
    {
     "name": "stdout",
     "output_type": "stream",
     "text": [
      "0 0 0\n",
      "1 1 1\n"
     ]
    }
   ],
   "source": [
    "a = np.array([1, 0, 0])\n",
    "b = np.array([0, 1, 0])\n",
    "c = np.array([0, 0, 1])\n",
    "print(np.dot(a, b), np.dot(b, c), np.dot(a, c))\n",
    "print(np.dot(a, a), np.dot(b, b), np.dot(c, c))"
   ]
  },
  {
   "cell_type": "markdown",
   "metadata": {},
   "source": [
    "$ (1, 0, 0), (0, 1, 0) , (0, 0, 1) $ образуют ортонормированный базис"
   ]
  },
  {
   "cell_type": "code",
   "execution_count": null,
   "metadata": {},
   "outputs": [],
   "source": []
  },
  {
   "cell_type": "code",
   "execution_count": null,
   "metadata": {},
   "outputs": [],
   "source": []
  },
  {
   "cell_type": "code",
   "execution_count": null,
   "metadata": {},
   "outputs": [],
   "source": []
  }
 ],
 "metadata": {
  "kernelspec": {
   "display_name": "Python 3",
   "language": "python",
   "name": "python3"
  },
  "language_info": {
   "codemirror_mode": {
    "name": "ipython",
    "version": 3
   },
   "file_extension": ".py",
   "mimetype": "text/x-python",
   "name": "python",
   "nbconvert_exporter": "python",
   "pygments_lexer": "ipython3",
   "version": "3.6.5"
  }
 },
 "nbformat": 4,
 "nbformat_minor": 2
}
