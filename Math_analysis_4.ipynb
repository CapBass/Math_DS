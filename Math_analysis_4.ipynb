{
 "cells": [
  {
   "cell_type": "markdown",
   "metadata": {},
   "source": [
    "$$\\int (2x^2 - 2x - 1 + \\sin(x) - \\cos(x) + \\ln(x) + e^x) dx = \\int2x^2dx - \\int2xdx - \\int dx + \\int \\sin(x)dx - \\int \\cos(x)dx + \\int \\ln(x)dx + \\int e^xdx = \\frac{2}{3}x^3 - x^2 - x - \\cos(x) - \\sin(x) + \\int \\ln(x)dx + e^x + С = \\frac{2}{3}x^3 - x^2 - x - \\cos(x) - \\sin(x) + x\\ln(x) - x + e^x + С = \\frac{2}{3}x^3 - x^2 - 2x - \\cos(x) - \\sin(x) + x\\ln(x) + e^x + С $$\n",
    "\n",
    "$$ \\int \\ln(x)dx = [u = \\ln(x), du = dx, dv = (du)^\\prime dx = \\frac{dx}{x}, v = \\int dx = x + C] = x\\ln(x) - \\int x \\cdot \\frac{dx}{x} = x\\ln(x) - x + C $$"
   ]
  },
  {
   "cell_type": "markdown",
   "metadata": {},
   "source": [
    "$$ \\int(2x + 6xz^2 - 5x^2y - 3\\ln(z))dx = \\int 2xdx + \\int (6xz^2)dx - \\int (5x^2y)dx - \\int 3\\ln(z)dx = x^2 + 3z^2x^2 - \\frac{5yx^3}{3} -3\\ln(z)x + C  $$"
   ]
  },
  {
   "cell_type": "markdown",
   "metadata": {},
   "source": [
    "$$\\int 3x^2\\sin(2x)dx = [u = 3x^2, du=6xdx, dv=\\sin(2x)dx, v = \\int \\sin(2x)dx = -\\frac{1}{2}\\cos(2x) + C] = 3x^2 \\cdot \\frac{\\cos(2x)}{2} + \\int \\frac{\\cos(2x)}{2} \\cdot 6xdx$$"
   ]
  },
  {
   "cell_type": "code",
   "execution_count": null,
   "metadata": {},
   "outputs": [],
   "source": []
  }
 ],
 "metadata": {
  "kernelspec": {
   "display_name": "Python 3",
   "language": "python",
   "name": "python3"
  },
  "language_info": {
   "codemirror_mode": {
    "name": "ipython",
    "version": 3
   },
   "file_extension": ".py",
   "mimetype": "text/x-python",
   "name": "python",
   "nbconvert_exporter": "python",
   "pygments_lexer": "ipython3",
   "version": "3.6.5"
  }
 },
 "nbformat": 4,
 "nbformat_minor": 2
}
