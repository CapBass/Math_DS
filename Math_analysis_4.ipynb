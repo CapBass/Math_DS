{
 "cells": [
  {
   "cell_type": "markdown",
   "metadata": {},
   "source": [
    "### Задание 1\n",
    "$$\\int (2x^2 - 2x - 1 + \\sin(x) - \\cos(x) + \\ln(x) + e^x) dx = \\int2x^2dx - \\int2xdx - \\int dx + \\int \\sin(x)dx - \\int \\cos(x)dx + \\int \\ln(x)dx + \\int e^xdx = \\frac{2}{3}x^3 - x^2 - x - \\cos(x) - \\sin(x) + \\int \\ln(x)dx + e^x + С = \\frac{2}{3}x^3 - x^2 - x - \\cos(x) - \\sin(x) + x\\ln(x) - x + e^x + С = \\frac{2}{3}x^3 - x^2 - 2x - \\cos(x) - \\sin(x) + x\\ln(x) + e^x + С $$"
   ]
  },
  {
   "cell_type": "markdown",
   "metadata": {},
   "source": [
    "$$ \\int \\ln(x)dx = [u = \\ln(x), du = dx, dv = (du)^\\prime dx = \\frac{dx}{x}, v = \\int dx = x + C] = x\\ln(x) - \\int x \\cdot \\frac{dx}{x} = x\\ln(x) - x + C $$"
   ]
  },
  {
   "cell_type": "markdown",
   "metadata": {},
   "source": [
    "### Задание 2\n",
    "$$ \\int(2x + 6xz^2 - 5x^2y - 3\\ln(z))dx = \\int 2xdx + \\int (6xz^2)dx - \\int (5x^2y)dx - \\int 3\\ln(z)dx = x^2 + 3z^2x^2 - \\frac{5yx^3}{3} -3\\ln(z)x + C  $$"
   ]
  },
  {
   "cell_type": "markdown",
   "metadata": {},
   "source": [
    "### Задание 3\n",
    "$$\\int 3x^2\\sin(2x)dx = [u = 3x^2, du=6xdx, dv=\\sin(2x)dx, v = \\int \\sin(2x)dx = -\\frac{1}{2}\\cos(2x) + C] = -3x^2 \\cdot \\frac{\\cos(2x)}{2} + \\int \\frac{\\cos(2x)}{2} \\cdot 6xdx = -3x^2 \\cdot \\frac{\\cos(2x)}{2} + 3\\int x\\cos(2x)dx = -3x^2 \\cdot \\frac{\\cos(2x)}{2} + \\frac{3x\\sin(x)}{2} - \\frac{3}{4}\\cos(2x) + C$$\n"
   ]
  },
  {
   "cell_type": "markdown",
   "metadata": {},
   "source": [
    "$$\\int (\\cos(2x)x)dx = [u = x, du = dx, dv = \\cos(2x)dx, v = -\\frac{1}{2}\\sin(2x)] = -\\frac{x\\sin(x)}{2} + \\frac{1}{2}\\int\\sin(2x)dx = -\\frac{x\\sin(x)}{2} - \\frac{1}{4}\\cos(2x) + C $$"
   ]
  },
  {
   "cell_type": "markdown",
   "metadata": {},
   "source": [
    "$$\\int\\limits_0^\\pi  = F(\\pi) - F(0) = (-3\\pi^2 \\cdot \\frac{\\cos(2\\pi)}{2} + \\frac{3\\pi\\sin(\\pi)}{2} - \\frac{3}{4}\\cos(2\\pi)dx) - (0 \\cdot \\frac{\\cos(0)}{2} + \\frac{0}{2} - \\frac{3}{4}\\cos(0)dx) = -\\frac{3\\pi^2}{2} - \\frac{3}{4} + \\frac{3}{4} = -  \\frac{3\\pi^2}{2}$$"
   ]
  },
  {
   "cell_type": "markdown",
   "metadata": {},
   "source": [
    "### задание 4\n",
    "$$ \\int \\frac{1}{\\sqrt{x + 1}}dx = [t = x - 1, dt = dx] = \\int \\frac{1}{\\sqrt{t}}dt = 2\\sqrt{t} = 2\\sqrt{x - 1} + C   $$"
   ]
  },
  {
   "cell_type": "markdown",
   "metadata": {},
   "source": [
    "### Задание 5\n",
    "$$ (4x^2 + \\frac{1}{2}y^2 - 6y)dx + (2y^3 + xy -6x)dy = 0 $$"
   ]
  },
  {
   "cell_type": "markdown",
   "metadata": {},
   "source": [
    "$$ \\frac{d}{dy}(4x^2 + \\frac{1}{2}y^2 - 6y) = y - 6$$"
   ]
  },
  {
   "cell_type": "markdown",
   "metadata": {},
   "source": [
    "$$ \\frac{d}{dx}(2y^3 + xy -6x) = y - 6$$"
   ]
  },
  {
   "cell_type": "markdown",
   "metadata": {},
   "source": [
    "Уравнение в полных дифференциалах\n",
    "$$ \\int (4x^2 + \\frac{1}{2}y^2 - 6y)dx  = \\int 4x^2dx + \\int \\frac{1}{2}y^2dx - \\int6ydx = \\frac{4}{3}x^3 + \\frac{1}{2}y^2x - 6yx + \\phi(y)$$"
   ]
  },
  {
   "cell_type": "markdown",
   "metadata": {},
   "source": [
    "$$(\\frac{4}{3}x^3 + \\frac{1}{2}y^2x - 6yx + \\phi(y))\\prime_y = 2y^3 + xy -6x $$"
   ]
  },
  {
   "cell_type": "markdown",
   "metadata": {},
   "source": [
    "$$ \\phi\\prime(y) = 2y^3 => \\phi(y) = \\int 2y^3dy = \\frac{1}{2}y^4$$"
   ]
  },
  {
   "cell_type": "markdown",
   "metadata": {},
   "source": [
    "$$ \\frac{4}{3}x^3 + \\frac{1}{2}y^2x - 6yx + \\frac{1}{2}y^4 = C$$"
   ]
  },
  {
   "cell_type": "markdown",
   "metadata": {},
   "source": [
    "### Задание 6\n",
    "$$ y^\\prime + y = x^2y^3 $$"
   ]
  },
  {
   "cell_type": "markdown",
   "metadata": {},
   "source": [
    "Уравнение бернули\n",
    "\n",
    "$$ \\frac{y^\\prime}{y^3} + \\frac{1}{y^2} = x^2 $$"
   ]
  },
  {
   "cell_type": "markdown",
   "metadata": {},
   "source": [
    "$$ z = \\frac{1}{y^2}, z^\\prime = -2\\frac{y^\\prime}{y^3} $$"
   ]
  },
  {
   "cell_type": "markdown",
   "metadata": {},
   "source": [
    "$$ -\\frac{z^\\prime}{2} + z = x^2, -z^\\prime + 2z = 2x^2 $$"
   ]
  },
  {
   "cell_type": "markdown",
   "metadata": {},
   "source": [
    "$$-z^\\prime + 2z = 0, z^\\prime = 2z  $$"
   ]
  },
  {
   "cell_type": "markdown",
   "metadata": {},
   "source": [
    "$$\\frac{dz}{z} = 2, \\int \\frac{dz}{z} = 2\\int dx, ln(z) = 2x + ln(C), z = Ce^{2x} => z = C(x)e^{2x}  $$"
   ]
  },
  {
   "cell_type": "markdown",
   "metadata": {},
   "source": [
    "$$ -C(x)^\\prime e^{2x} + 2C(x)e^{2x} = 2x^2 => -C(x)^\\prime e^{2x} - 2C(x)e^{2x} + 2C(x)e^{2x} = 2x^2 => - C(x)^\\prime e^{2x} = 2x^2 => C(x) = -2x^2e^{-2x} $$"
   ]
  },
  {
   "cell_type": "markdown",
   "metadata": {},
   "source": [
    "$ \\int-2x^2e^{-2x}dx = e^{-2x}(x^2 + x + \\frac{1}{2}) + C $ Решение найдено с помощью разложения по частям"
   ]
  },
  {
   "cell_type": "markdown",
   "metadata": {},
   "source": [
    "$$ y = \\frac{1}{\\sqrt{ Ce^{-2x}(x^2 + x + \\frac{1}{2})}} $$"
   ]
  },
  {
   "cell_type": "code",
   "execution_count": null,
   "metadata": {},
   "outputs": [],
   "source": []
  }
 ],
 "metadata": {
  "kernelspec": {
   "display_name": "Python 3",
   "language": "python",
   "name": "python3"
  },
  "language_info": {
   "codemirror_mode": {
    "name": "ipython",
    "version": 3
   },
   "file_extension": ".py",
   "mimetype": "text/x-python",
   "name": "python",
   "nbconvert_exporter": "python",
   "pygments_lexer": "ipython3",
   "version": "3.7.3"
  }
 },
 "nbformat": 4,
 "nbformat_minor": 2
}
