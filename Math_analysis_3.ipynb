{
 "cells": [
  {
   "cell_type": "markdown",
   "metadata": {},
   "source": [
    "### Найти производные выражений"
   ]
  },
  {
   "cell_type": "markdown",
   "metadata": {},
   "source": [
    "$$ (\\sin{x} \\cdot \\cos{x})^\\prime = \\sin{x}^\\prime \\cdot \\cos{x} + \\sin{x} \\cdot \\cos{x}^\\prime = \\cos^2{x} - \\sin^2{x} $$"
   ]
  },
  {
   "cell_type": "markdown",
   "metadata": {},
   "source": [
    "$$(\\ln{(2x + 1)^3})^\\prime = \\frac{1}{(2x + 1)^3} \\cdot 3(2x + 1)^2 \\cdot 2 = \\frac{6}{2x + 1} $$"
   ]
  },
  {
   "cell_type": "markdown",
   "metadata": {},
   "source": [
    "$$(\\sqrt{\\sin^2(\\ln(x^3))})^\\prime = \\frac{1}{2 \\cdot \\sqrt{\\sin^2(\\ln(x^3))}} \\cdot 2\\sin(\\ln(x^3)) \\cdot \\cos(\\ln(x^3)) \\cdot \\frac{1}{x^3} \\cdot 3x^2 = \\frac{\\sin(\\ln(x^3))}{\\sqrt{\\sin^2(\\ln(x^3))}} \\frac{3 \\cdot \\cos(\\ln(x^3))}{x} = 3 \\cdot \\frac{\\cos(\\ln(x^3))}{x} $$"
   ]
  },
  {
   "cell_type": "markdown",
   "metadata": {},
   "source": [
    "$$(\\frac{x^4}{\\ln(x)})^\\prime = \\frac{4x^3 \\cdot \\ln(x) - x^3}{\\ln^2(x)} = \\frac{4x^3}{\\ln(x)} - \\frac{x^3}{\\ln^2(x)}  $$"
   ]
  },
  {
   "cell_type": "markdown",
   "metadata": {},
   "source": [
    "### Найти производную в точке $ x_0 = \\sqrt{\\pi}$"
   ]
  },
  {
   "cell_type": "markdown",
   "metadata": {},
   "source": [
    "$$(\\cos(x^2 + 3x))^\\prime = -\\sin(x^2 +3x) \\cdot (2x+3) = -\\sin((\\sqrt{\\pi})^2 +3\\sqrt{\\pi}) \\cdot (2\\sqrt{\\pi}+3) = -(\\sin(\\pi) \\cdot \\cos(3\\sqrt{\\pi}) + \\cos(\\pi) \\cdot \\sin(3\\sqrt{\\pi})) \\cdot (2\\sqrt{\\pi}+3) = \\sin(3\\sqrt{\\pi}) \\cdot (2\\sqrt{\\pi}+3) = 2\\sqrt{\\pi} \\cdot \\sin(3\\sqrt{\\pi}) + 3\\sin(3\\sqrt{\\pi})  $$"
   ]
  },
  {
   "cell_type": "markdown",
   "metadata": {},
   "source": [
    "### Найти производную в точке $ x_0 = 0$"
   ]
  },
  {
   "cell_type": "markdown",
   "metadata": {},
   "source": [
    "$$ \\frac{x^3-x^2-x-1}{1+2x+3x^2-4x^3} =\\frac{(x^3-x^2-x-1)^\\prime \\cdot (1+2x+3x^2-4x^3) - (x^3-x^2-x-1) \\cdot (1+2x+3x^2-4x^3)^\\prime }{(1+2x+3x^2-4x^3)^2} = \\frac{3x^2 - 2x - 1}{1+2x+3x^2-4x^3} - \\frac{(x^3-x^2-x-1) \\cdot (2 + 6x - 12x^2)}{{(1+2x+3x^2-4x^3)^2}}  $$\n",
    "\n",
    "подставим $x_0 = 0$\n",
    "$$ \\frac{3\\cdot0^2 - 2\\cdot0 - 1}{1+2\\cdot0+3\\cdot0^2-4\\cdot0^3} - \\frac{(0^3-0^2-0-1) \\cdot (2 + 6\\cdot0 - 12\\cdot0^2)}{{(1+2\\cdot0+3\\cdot0^2-4\\cdot0^3)^2}} = -1 + 2 = 1 $$"
   ]
  },
  {
   "cell_type": "markdown",
   "metadata": {},
   "source": [
    "### Составить уравнение угла наклона касательной в точке"
   ]
  },
  {
   "cell_type": "markdown",
   "metadata": {},
   "source": [
    "$$x_0 = 1,  f(x) = \\sqrt{3x} \\cdot \\ln(x)$$\n",
    "\n",
    "$$f(x_0) = \\sqrt{3\\cdot1} \\cdot \\ln(1) = 0  $$\n",
    "\n",
    "$$f(x)^\\prime = (\\sqrt{3x} \\cdot \\ln(x))^\\prime = (\\sqrt{3x})^\\prime \\cdot \\ln(x) + \\sqrt{3x} \\cdot (\\ln(x))^\\prime  = \\frac{3\\ln(x)}{2\\sqrt{3x}} + \\frac{\\sqrt{3x}}{x}$$\n",
    "\n",
    "$$f^\\prime(x_0) = \\frac{3\\ln(1)}{2\\sqrt{3\\cdot1}} + \\frac{\\sqrt{3\\cdot1}}{1} = \\sqrt{3} $$\n",
    "\n",
    "уравнение наклона касательной $y = f^\\prime(x_0) \\cdot (x - x_0) + f(x) = \\sqrt{3}x -\\sqrt{3}$"
   ]
  },
  {
   "cell_type": "markdown",
   "metadata": {},
   "source": [
    "### Определить сходимость ряда по Даламберу"
   ]
  },
  {
   "cell_type": "markdown",
   "metadata": {},
   "source": [
    "$$ \\sum\\limits_{n=1}^\\infty \\frac{n^{n}}{(n!)^2} = \\lim_{n \\to \\infty} \\frac{(n+1)^{n+1} \\cdot (n!)^2}{n^n \\cdot ((n+1)!)^2} = \\lim_{n \\to \\infty} \\frac{(n+1)^{n+1}}{n^n \\cdot (n+1)^2} = \\lim_{n \\to \\infty} \\frac{(n+1)^n}{n^n \\cdot (n+1)} = \\lim_{n \\to \\infty} \\frac{\\frac{(n+1)^n}{n^n}}{n+1} = \\lim_{n \\to \\infty} \\frac{1}{n+1} = 0 $$\n",
    "\n",
    "0 < 1, следовательно ряд сходящийся"
   ]
  },
  {
   "cell_type": "markdown",
   "metadata": {},
   "source": [
    "### Определить сходимость ряда по радикальному критерию Коши"
   ]
  },
  {
   "cell_type": "markdown",
   "metadata": {},
   "source": [
    "$$ \\frac{n}{2^n} =  \\lim_{n \\to \\infty} \\sqrt[n]{\\frac{n}{2^n}} = \\lim_{n \\to \\infty} \\frac{n^{\\frac{1}{n}}}{2} = \\frac{1}{2}$$\n",
    "\n",
    "$\\frac{1}{2}$ < 1, ряд сходится"
   ]
  },
  {
   "cell_type": "markdown",
   "metadata": {},
   "source": [
    "### Определить сходимость ряда по Лейбницу"
   ]
  },
  {
   "cell_type": "markdown",
   "metadata": {},
   "source": [
    "$\\frac{(-1)^n}{n \\cdot \\ln(n)}$ - знакочередующийся, каждый |n + 1| член последовательности > |n| члена последовательности\n",
    "\n",
    "$$ \\frac{(-1)^n}{n \\cdot \\ln(n)} = \\lim_{n \\to \\infty} |\\frac{(-1)^n}{n \\cdot \\ln(n)}| =  \\lim_{n \\to \\infty} \\frac{1}{n \\cdot \\ln(n)} = \\frac{1}{\\infty} =  0 $$\n",
    "\n",
    "предел модуля знакочередующегося ряда равен 0, поэтому ряд сходящийся"
   ]
  },
  {
   "cell_type": "markdown",
   "metadata": {},
   "source": [
    "### Определить сходимость ряда по признаку Раабе"
   ]
  },
  {
   "cell_type": "markdown",
   "metadata": {},
   "source": [
    "$$\\frac{3^n}{2^n} = \\lim_{n \\to \\infty} n \\cdot (\\frac{3^n \\cdot 2^{n+1}}{3^{n+1} \\cdot 2^n} - 1) = \\lim_{n \\to \\infty} n \\cdot (\\frac{3^n \\cdot 2^n \\cdot 2}{3^n \\cdot 3 \\cdot 2^n} - 1) = \\lim_{n \\to \\infty} n \\cdot \\frac{-1}{3} = \\lim_{n \\to \\infty} -\\frac{n}{3} = -\\infty $$\n",
    "\n",
    "предел стремится кминус бесконечности, поэтоиу ряд расходится"
   ]
  },
  {
   "cell_type": "markdown",
   "metadata": {},
   "source": [
    "### Разложить в ряд Тейлора в единице"
   ]
  },
  {
   "cell_type": "markdown",
   "metadata": {},
   "source": [
    "$$ \\ln(16x^2)  = \\frac{\\ln(16\\cdot1^2)}{0!}\\cdot (x - 1)^{0} + \\frac{\\frac{2}{1}}{1!}\\cdot (x - 1)^{1} - \\frac{\\frac{2}{1^2}}{2!}\\cdot (x - 1)^{2} = \\ln(16) + 2\\cdot(x - 1) - 1 \\cdot (x-1)^2  $$"
   ]
  }
 ],
 "metadata": {
  "kernelspec": {
   "display_name": "Python 3",
   "language": "python",
   "name": "python3"
  },
  "language_info": {
   "codemirror_mode": {
    "name": "ipython",
    "version": 3
   },
   "file_extension": ".py",
   "mimetype": "text/x-python",
   "name": "python",
   "nbconvert_exporter": "python",
   "pygments_lexer": "ipython3",
   "version": "3.7.3"
  }
 },
 "nbformat": 4,
 "nbformat_minor": 2
}
