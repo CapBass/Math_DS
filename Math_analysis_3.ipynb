{
 "cells": [
  {
   "cell_type": "markdown",
   "metadata": {},
   "source": [
    "$$ (\\sin{x} \\cdot \\cos{x})^\\prime = \\sin{x}^\\prime \\cdot \\cos{x} + \\sin{x} \\cdot \\cos{x}^\\prime = \\cos{x}^2 + (-\\sin{x}^2) $$"
   ]
  },
  {
   "cell_type": "markdown",
   "metadata": {},
   "source": [
    "$$\\ln{(2x + 1)^3} = \\frac{1}{(2x + 1)^3} \\cdot 3(2x + 1)^2 \\cdot 2 = \\frac{6}{2x + 1} $$"
   ]
  },
  {
   "cell_type": "markdown",
   "metadata": {},
   "source": [
    "$$\\sqrt{\\sin^2(\\ln(x^3))} = \\frac{1}{2 \\cdot \\sqrt{\\sin^2(\\ln(x^3))}} \\cdot 2\\sin(\\ln(x^3)) \\cdot \\cos(\\ln(x^3)) \\cdot \\frac{1}{x^3} \\cdot 3x^2 = \\frac{\\sin(\\ln(x^3))}{\\sqrt{\\sin^2(\\ln(x^3))}} \\frac{3 \\cdot \\cos(\\ln(x^3))}{x} = 3 \\cdot \\frac{\\cos(\\ln(x^3))}{x} $$"
   ]
  },
  {
   "cell_type": "markdown",
   "metadata": {},
   "source": [
    "$$(\\frac{x^4}{\\ln(x)})^\\prime = \\frac{4x^3 \\cdot \\ln(x) - x^3}{\\ln^2(x)} = \\frac{4x^3}{\\ln(x)} - \\frac{x^3}{\\ln^2(x)}  $$"
   ]
  },
  {
   "cell_type": "markdown",
   "metadata": {},
   "source": [
    "Ряды"
   ]
  },
  {
   "cell_type": "markdown",
   "metadata": {},
   "source": [
    "$$ \\sum\\limits_{n=1}^\\infty \\frac{n^{n}}{(n!)^2} = \\lim_{n \\to \\infty} \\frac{(n+1)^{n+1} \\cdot (n!)^2}{n^n \\cdot ((n+1)!)^2} = \\lim_{n \\to \\infty} \\frac{(n+1)^{n+1}}{n^n \\cdot (n+1)^2} = \\lim_{n \\to \\infty} \\frac{(n+1)^n}{n^n \\cdot (n+1)} = \\lim_{n \\to \\infty} \\frac{\\frac{(n+1)^n}{n^n}}{n+1} = \\lim_{n \\to \\infty} \\frac{1}{n+1} = 0 $$"
   ]
  },
  {
   "cell_type": "markdown",
   "metadata": {},
   "source": [
    "$$ \\frac{n}{2^n} =  \\lim_{n \\to \\infty} \\sqrt[n]{\\frac{n}{2^n}} = \\lim_{n \\to \\infty} \\frac{n^{\\frac{1}{n}}}{2} = \\frac{1}{2}$$"
   ]
  },
  {
   "cell_type": "markdown",
   "metadata": {},
   "source": [
    "$$ \\frac{(-1)^n}{n \\cdot \\ln(n)} = \\lim_{n \\to \\infty} |\\frac{(-1)^n}{n \\cdot \\ln(n)}| =  \\lim_{n \\to \\infty} \\frac{1}{n \\cdot \\ln(n)} = \\frac{1}{\\infty} =  0 $$"
   ]
  },
  {
   "cell_type": "markdown",
   "metadata": {},
   "source": [
    "$$\\frac{3^n}{2^n} = \\lim_{n \\to \\infty} n \\cdot (\\frac{3^n \\cdot 2^{n+1}}{3^{n+1} \\cdot 2^n} - 1) = \\lim_{n \\to \\infty} n \\cdot (\\frac{3^n \\cdot 2^n \\cdot 2}{3^n \\cdot 3 \\cdot 2^n} - 1) = \\lim_{n \\to \\infty} n \\cdot \\frac{-1}{3} = \\lim_{n \\to \\infty} -\\frac{n}{3} = -\\infty $$"
   ]
  },
  {
   "cell_type": "code",
   "execution_count": null,
   "metadata": {},
   "outputs": [],
   "source": []
  }
 ],
 "metadata": {
  "kernelspec": {
   "display_name": "Python 3",
   "language": "python",
   "name": "python3"
  },
  "language_info": {
   "codemirror_mode": {
    "name": "ipython",
    "version": 3
   },
   "file_extension": ".py",
   "mimetype": "text/x-python",
   "name": "python",
   "nbconvert_exporter": "python",
   "pygments_lexer": "ipython3",
   "version": "3.6.5"
  }
 },
 "nbformat": 4,
 "nbformat_minor": 2
}
