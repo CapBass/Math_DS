{
 "cells": [
  {
   "cell_type": "markdown",
   "metadata": {},
   "source": [
    "$$ (\\sin{x} \\cdot \\cos{x})^\\prime = \\sin{x}^\\prime \\cdot \\cos{x} + \\sin{x} \\cdot \\cos{x}^\\prime = \\cos{x}^2 + (-\\sin{x}^2) $$"
   ]
  },
  {
   "cell_type": "markdown",
   "metadata": {},
   "source": [
    "$$\\ln{(2x + 1)^3} = \\frac{1}{(2x + 1)^3} \\cdot 3(2x + 1)^2 \\cdot 2 = \\frac{6}{2x + 1} $$"
   ]
  },
  {
   "cell_type": "markdown",
   "metadata": {},
   "source": [
    "$$\\sqrt{\\sin^2(\\ln(x^3))} = \\frac{1}{2 \\cdot \\sqrt{\\sin^2(\\ln(x^3))}} \\cdot 2\\sin(\\ln(x^3)) \\cdot \\cos(\\ln(x^3)) \\cdot \\frac{1}{x^3} \\cdot 3x^2 = \\frac{\\sin(\\ln(x^3))}{\\sqrt{\\sin^2(\\ln(x^3))}} \\frac{3 \\cdot \\cos(\\ln(x^3))}{x} = 3 \\cdot \\frac{\\cos(\\ln(x^3))}{x} $$"
   ]
  },
  {
   "cell_type": "markdown",
   "metadata": {},
   "source": [
    "$$(\\frac{x^4}{\\ln(x)})^\\prime = \\frac{4x^3 \\cdot \\ln(x) - x^3}{\\ln^2(x)} = \\frac{4x^3}{\\ln(x)} - \\frac{x^3}{\\ln^2(x)}  $$"
   ]
  }
 ],
 "metadata": {
  "kernelspec": {
   "display_name": "Python 3",
   "language": "python",
   "name": "python3"
  },
  "language_info": {
   "codemirror_mode": {
    "name": "ipython",
    "version": 3
   },
   "file_extension": ".py",
   "mimetype": "text/x-python",
   "name": "python",
   "nbconvert_exporter": "python",
   "pygments_lexer": "ipython3",
   "version": "3.7.3"
  }
 },
 "nbformat": 4,
 "nbformat_minor": 2
}
