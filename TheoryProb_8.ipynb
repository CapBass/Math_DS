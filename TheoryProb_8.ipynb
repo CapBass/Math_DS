{
 "cells": [
  {
   "cell_type": "markdown",
   "metadata": {},
   "source": [
    "Провести дисперсионный анализ для определения того, есть ли различия среднего роста среди взрослых футболистов, хоккеистов и штангистов. Даны значения роста в трех группах случайно выбранных спортсменов: \n",
    "\n",
    "football_players = [173, 175, 180, 178, 177, 185, 183, 182]\n",
    "\n",
    "hockey_players = [177, 179, 180, 188, 177, 172, 171, 184, 180]\n",
    "\n",
    "lifters = [172, 173, 169, 177, 166, 180, 178, 177, 172, 166, 170]"
   ]
  },
  {
   "cell_type": "code",
   "execution_count": 7,
   "metadata": {},
   "outputs": [],
   "source": [
    "import numpy as np\n",
    "from scipy import stats"
   ]
  },
  {
   "cell_type": "code",
   "execution_count": 5,
   "metadata": {},
   "outputs": [],
   "source": [
    "y1 = np.array([173, 175, 180, 178, 177, 185, 183, 182])\n",
    "y2 = np.array([177, 179, 180, 188, 177, 172, 171, 184, 180])\n",
    "y3 = np.array([172, 173, 169, 177, 166, 180, 178, 177, 172, 166, 170])"
   ]
  },
  {
   "cell_type": "code",
   "execution_count": 16,
   "metadata": {},
   "outputs": [
    {
     "name": "stdout",
     "output_type": "stream",
     "text": [
      "средний рост футболистов = 179.125\n",
      "средний рост хоккеистов = 178.66666666666666\n",
      "средний рост штангистов = 178.66666666666666\n",
      "S2 = 830.9642857142854, S2_F + S2_res = 830.964285714286\n",
      "T 5.5 > F_crit 3.39, Разница средних статистически значима\n"
     ]
    }
   ],
   "source": [
    "y1_mean = football_players.mean()\n",
    "y2_mean = hockey_players.mean()\n",
    "y3_mean = lifters.mean()\n",
    "y = np.concatenate([y1, y2, y3])\n",
    "y_mean = y.mean()\n",
    "\n",
    "n1 = y1.shape[0]\n",
    "n2 = y2.shape[0]\n",
    "n3 = y3.shape[0]\n",
    "print(f'средний рост футболистов = {y1_mean}\\n'\n",
    "      f'средний рост хоккеистов = {y2_mean}\\n'\n",
    "      f'средний рост штангистов = {y2_mean}')\n",
    "\n",
    "S2_F = n1 * (y1_mean - y_mean) ** 2 + n2 * (y2_mean - y_mean) ** 2 + n3 * (y3_mean - y_mean) ** 2\n",
    "S2_res = ((y1  - y1_mean) ** 2).sum() + ((y2 - y2_mean) ** 2).sum() + ((y3 - y3_mean) ** 2).sum()\n",
    "\n",
    "k = 3\n",
    "n = n1 + n2 + n3\n",
    "k1 = k - 1\n",
    "k2 = n - k\n",
    "alpha = 0.05\n",
    "\n",
    "sigma2_F = S2_F / k1\n",
    "sigma2_res = S2_res / k2\n",
    "\n",
    "print(f'S2 = {np.sum((y - y_mean)**2)}, S2_F + S2_res = {S2_F + S2_res}')\n",
    "\n",
    "T = sigma2_F / sigma2_res\n",
    "F_crit = stats.f.ppf(1 - alpha, k1, k2)\n",
    "\n",
    "if T > F_crit:\n",
    "    print(f'T {round(T, 2)} > F_crit {round(F_crit, 2)}, Разница средних статистически значима')\n",
    "else:\n",
    "    print(f'T {round(T, 2)} <= F_crit {round(F_crit, 2)}, Разница средних статистически незначима')  "
   ]
  }
 ],
 "metadata": {
  "kernelspec": {
   "display_name": "Python 3",
   "language": "python",
   "name": "python3"
  },
  "language_info": {
   "codemirror_mode": {
    "name": "ipython",
    "version": 3
   },
   "file_extension": ".py",
   "mimetype": "text/x-python",
   "name": "python",
   "nbconvert_exporter": "python",
   "pygments_lexer": "ipython3",
   "version": "3.7.3"
  }
 },
 "nbformat": 4,
 "nbformat_minor": 2
}
