{
 "cells": [
  {
   "cell_type": "code",
   "execution_count": 1,
   "metadata": {},
   "outputs": [],
   "source": [
    "import numpy as np\n",
    "import matplotlib.pyplot as plt"
   ]
  },
  {
   "cell_type": "markdown",
   "metadata": {},
   "source": [
    "### Задание 1\n",
    "\n",
    "О непрерывной равномерно распределенной случайной величине B известно, что ее дисперсия равна 0.2. Можно ли найти правую границу величины B и ее среднее значение зная, что левая граница равна 0.5? Если да, найдите ее."
   ]
  },
  {
   "cell_type": "code",
   "execution_count": 2,
   "metadata": {},
   "outputs": [],
   "source": [
    "scale = 0.2\n",
    "a = 0.5"
   ]
  },
  {
   "cell_type": "markdown",
   "metadata": {},
   "source": [
    "Формула дисперсии равномерного распределения D(X) = (b - a)^2 / 12. Зная дисперсию и левую границу случайной величины можем получить следующее уравнение b - a = sqrt(12 * D(x)). Подставив известные значения, получаем b = sqrt(2.4) + 0.5"
   ]
  },
  {
   "cell_type": "code",
   "execution_count": 3,
   "metadata": {},
   "outputs": [
    {
     "data": {
      "text/plain": [
       "2.049193338482967"
      ]
     },
     "execution_count": 3,
     "metadata": {},
     "output_type": "execute_result"
    }
   ],
   "source": [
    "b = np.sqrt(12 * scale) + a\n",
    "b"
   ]
  },
  {
   "cell_type": "markdown",
   "metadata": {},
   "source": [
    "По формуле находим мат ожидание равномерного распределение случайной величины"
   ]
  },
  {
   "cell_type": "code",
   "execution_count": 4,
   "metadata": {},
   "outputs": [
    {
     "data": {
      "text/plain": [
       "1.2745966692414834"
      ]
     },
     "execution_count": 4,
     "metadata": {},
     "output_type": "execute_result"
    }
   ],
   "source": [
    "loc = (a + b) / 2\n",
    "loc"
   ]
  },
  {
   "cell_type": "markdown",
   "metadata": {},
   "source": [
    "### Задание 2\n",
    "\n",
    "На сколько сигм (средних квадратических отклонений) отклоняется рост человека, равный 190 см, от математического ожидания роста в популяции, в которой M(X) = 178 и D(X) = 25?"
   ]
  },
  {
   "cell_type": "code",
   "execution_count": 5,
   "metadata": {},
   "outputs": [],
   "source": [
    "def pdf_normal(loc, scale, x):\n",
    "    return np.exp(- ((x - loc) ** 2) / (2 * scale ** 2)) / (scale * np.sqrt(2 * np.pi))"
   ]
  },
  {
   "cell_type": "code",
   "execution_count": 6,
   "metadata": {},
   "outputs": [
    {
     "data": {
      "image/png": "[encoded data removed]",
      "text/plain": [
       "<Figure size 432x288 with 1 Axes>"
      ]
     },
     "metadata": {},
     "output_type": "display_data"
    }
   ],
   "source": [
    "loc = 178\n",
    "scale = 5\n",
    "\n",
    "samples = np.random.normal(loc, scale, 1000)\n",
    "\n",
    "ox = np.linspace(150, 220, 1000)\n",
    "oy = np.array([pdf_normal(loc, scale, x) for x in ox])\n",
    "plt.plot(ox, oy);"
   ]
  },
  {
   "cell_type": "code",
   "execution_count": 7,
   "metadata": {},
   "outputs": [
    {
     "name": "stdout",
     "output_type": "stream",
     "text": [
      "Ответ: на 2.4 сигм\n"
     ]
    }
   ],
   "source": [
    "scale_cnt = (190 - loc) / scale\n",
    "print(f'Ответ: на {scale_cnt} сигм')"
   ]
  },
  {
   "cell_type": "markdown",
   "metadata": {},
   "source": [
    "### Задание 3\n",
    "\n",
    "Рост взрослого населения города X имеет нормальное распределение, причем, средний рост равен 174 см, а среднее квадратическое отклонение равно 8 см. Какова вероятность того, что случайным образом выбранный взрослый человек имеет рост:\n",
    "1. больше 182 см?\n",
    "2. больше 190 см?\n",
    "3. от 166 см до 190 см?\n",
    "4. от 166 см до 182 см?\n",
    "5. от 158 см до 190 см?\n",
    "6. не выше 150 см или не ниже 190 см?\n",
    "7. не выше 150 см или не ниже 198 см?\n",
    "8. ниже 166 см?"
   ]
  },
  {
   "cell_type": "code",
   "execution_count": 8,
   "metadata": {},
   "outputs": [],
   "source": [
    "loc = 174\n",
    "scale = 8\n",
    "\n",
    "samples = np.random.normal(loc, scale, 100000)"
   ]
  },
  {
   "cell_type": "code",
   "execution_count": 9,
   "metadata": {},
   "outputs": [],
   "source": [
    "p_1 = samples[samples > 182].shape[0] / samples.shape[0]\n",
    "p_2 = samples[samples > 190].shape[0] / samples.shape[0]\n",
    "p_3 = samples[(samples >= 166) & (samples <= 190)].shape[0] / samples.shape[0]\n",
    "p_4 = samples[(samples >= 166) & (samples <= 182)].shape[0] / samples.shape[0]\n",
    "p_5 = samples[(samples >= 158) & (samples <= 190)].shape[0] / samples.shape[0]\n",
    "p_6 = samples[(samples <= 150) | (samples >= 190)].shape[0] / samples.shape[0]\n",
    "p_7 = samples[(samples <= 150) | (samples >= 198)].shape[0] / samples.shape[0]\n",
    "p_8 = samples[samples < 166].shape[0] / samples.shape[0]"
   ]
  },
  {
   "cell_type": "code",
   "execution_count": 10,
   "metadata": {},
   "outputs": [
    {
     "name": "stdout",
     "output_type": "stream",
     "text": [
      "больше 182 см? - 0.15906\n",
      "больше 190 см? - 0.02301\n",
      "от 166 см до 190 см? - 0.81676\n",
      "от 166 см до 182 см? - 0.68071\n",
      "от 158 см до 190 см? - 0.95414\n",
      "не выше 150 см или не ниже 190 см? - 0.02435\n",
      "не выше 150 см или не ниже 198 см? - 0.00279\n",
      "ниже 166 см? - 0.16023\n",
      "\n"
     ]
    }
   ],
   "source": [
    "print(f'больше 182 см? - {p_1}\\n'\n",
    "      f'больше 190 см? - {p_2}\\n'\n",
    "      f'от 166 см до 190 см? - {p_3}\\n'\n",
    "      f'от 166 см до 182 см? - {p_4}\\n'\n",
    "      f'от 158 см до 190 см? - {p_5}\\n'\n",
    "      f'не выше 150 см или не ниже 190 см? - {p_6}\\n'\n",
    "      f'не выше 150 см или не ниже 198 см? - {p_7}\\n'\n",
    "      f'ниже 166 см? - {p_8}\\n')\n",
    "        "
   ]
  }
 ],
 "metadata": {
  "kernelspec": {
   "display_name": "Python 3",
   "language": "python",
   "name": "python3"
  },
  "language_info": {
   "codemirror_mode": {
    "name": "ipython",
    "version": 3
   },
   "file_extension": ".py",
   "mimetype": "text/x-python",
   "name": "python",
   "nbconvert_exporter": "python",
   "pygments_lexer": "ipython3",
   "version": "3.6.5"
  }
 },
 "nbformat": 4,
 "nbformat_minor": 2
}
